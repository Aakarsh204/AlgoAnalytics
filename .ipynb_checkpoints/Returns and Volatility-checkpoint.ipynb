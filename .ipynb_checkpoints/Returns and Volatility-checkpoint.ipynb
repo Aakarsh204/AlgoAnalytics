{
 "cells": [
  {
   "cell_type": "code",
   "execution_count": 2,
   "id": "db288f57-e605-46d9-90fa-59a7f784d470",
   "metadata": {},
   "outputs": [],
   "source": [
    "import yfinance as yf\n",
    "import pandas as pd\n",
    "import numpy as np"
   ]
  },
  {
   "cell_type": "code",
   "execution_count": 3,
   "id": "f4f70fc7-7e18-453f-ab63-4fac135b55f5",
   "metadata": {},
   "outputs": [
    {
     "name": "stdout",
     "output_type": "stream",
     "text": [
      "YF.download() has changed argument auto_adjust default to True\n"
     ]
    },
    {
     "name": "stderr",
     "output_type": "stream",
     "text": [
      "[*********************100%***********************]  1 of 1 completed\n",
      "[*********************100%***********************]  1 of 1 completed\n"
     ]
    }
   ],
   "source": [
    "stocks = ['msft', 'aapl'] # stock names\n",
    "start = '2024-03-23' # yyyy-mm-dd\n",
    "end = '2025-03-23'\n",
    "\n",
    "msft = yf.download('msft', start = start, end = end)\n",
    "aapl = yf.download('aapl', start = start, end = end)"
   ]
  },
  {
   "cell_type": "code",
   "execution_count": 4,
   "id": "1cd12bb7-5218-4b5c-9ad0-a8744ce20ffe",
   "metadata": {},
   "outputs": [],
   "source": [
    "msft, aapl = msft['Close'], aapl['Close']"
   ]
  },
  {
   "cell_type": "code",
   "execution_count": 5,
   "id": "c6565c88-b00e-469b-be2b-fa4ac8cbecab",
   "metadata": {},
   "outputs": [
    {
     "data": {
      "text/plain": [
       "(Ticker            MSFT\n",
       " Date                  \n",
       " 2024-03-25  419.656067\n",
       " 2024-03-26  418.455261\n",
       " 2024-03-27  418.236938\n",
       " 2024-03-28  417.532288\n",
       " 2024-04-01  421.353088\n",
       " ...                ...\n",
       " 2025-03-17  388.700012\n",
       " 2025-03-18  383.519989\n",
       " 2025-03-19  387.820007\n",
       " 2025-03-20  386.839996\n",
       " 2025-03-21  391.260010\n",
       " \n",
       " [249 rows x 1 columns],\n",
       " Ticker            AAPL\n",
       " Date                  \n",
       " 2024-03-25  170.047073\n",
       " 2024-03-26  168.912430\n",
       " 2024-03-27  172.495499\n",
       " 2024-03-28  170.674103\n",
       " 2024-04-01  169.230927\n",
       " ...                ...\n",
       " 2025-03-17  214.000000\n",
       " 2025-03-18  212.690002\n",
       " 2025-03-19  215.240005\n",
       " 2025-03-20  214.100006\n",
       " 2025-03-21  218.270004\n",
       " \n",
       " [249 rows x 1 columns])"
      ]
     },
     "execution_count": 5,
     "metadata": {},
     "output_type": "execute_result"
    }
   ],
   "source": [
    "# Close Prices DataFrame is multi-indexed with stock_name and date\n",
    "msft, aapl"
   ]
  },
  {
   "cell_type": "code",
   "execution_count": 6,
   "id": "6005b115-4f99-47cf-a972-04119eb28f25",
   "metadata": {},
   "outputs": [],
   "source": [
    "def calculate_volatility(returns):\n",
    "    return returns.std() * np.sqrt(249)\n",
    "\n",
    "def portfolio_volatility(weights, returns):\n",
    "    cov_matrix = returns.cov() * 249\n",
    "    port_vol = np.sqrt(np.dot(weights.T, np.dot(cov_matrix, weights)))\n",
    "    return port_vol"
   ]
  },
  {
   "cell_type": "code",
   "execution_count": 7,
   "id": "353c37f5-d0f9-4348-a909-4f3f0eb4ee76",
   "metadata": {},
   "outputs": [],
   "source": [
    "portfolio = pd.concat([msft, aapl], axis=1)\n",
    "portfolio.columns = stocks"
   ]
  },
  {
   "cell_type": "code",
   "execution_count": 8,
   "id": "edd5a48d-6a75-4a06-9c23-f880e21c0f19",
   "metadata": {},
   "outputs": [
    {
     "data": {
      "text/html": [
       "<div>\n",
       "<style scoped>\n",
       "    .dataframe tbody tr th:only-of-type {\n",
       "        vertical-align: middle;\n",
       "    }\n",
       "\n",
       "    .dataframe tbody tr th {\n",
       "        vertical-align: top;\n",
       "    }\n",
       "\n",
       "    .dataframe thead th {\n",
       "        text-align: right;\n",
       "    }\n",
       "</style>\n",
       "<table border=\"1\" class=\"dataframe\">\n",
       "  <thead>\n",
       "    <tr style=\"text-align: right;\">\n",
       "      <th></th>\n",
       "      <th>msft</th>\n",
       "      <th>aapl</th>\n",
       "    </tr>\n",
       "    <tr>\n",
       "      <th>Date</th>\n",
       "      <th></th>\n",
       "      <th></th>\n",
       "    </tr>\n",
       "  </thead>\n",
       "  <tbody>\n",
       "    <tr>\n",
       "      <th>2024-03-25</th>\n",
       "      <td>419.656067</td>\n",
       "      <td>170.047073</td>\n",
       "    </tr>\n",
       "    <tr>\n",
       "      <th>2024-03-26</th>\n",
       "      <td>418.455261</td>\n",
       "      <td>168.912430</td>\n",
       "    </tr>\n",
       "    <tr>\n",
       "      <th>2024-03-27</th>\n",
       "      <td>418.236938</td>\n",
       "      <td>172.495499</td>\n",
       "    </tr>\n",
       "    <tr>\n",
       "      <th>2024-03-28</th>\n",
       "      <td>417.532288</td>\n",
       "      <td>170.674103</td>\n",
       "    </tr>\n",
       "    <tr>\n",
       "      <th>2024-04-01</th>\n",
       "      <td>421.353088</td>\n",
       "      <td>169.230927</td>\n",
       "    </tr>\n",
       "    <tr>\n",
       "      <th>...</th>\n",
       "      <td>...</td>\n",
       "      <td>...</td>\n",
       "    </tr>\n",
       "    <tr>\n",
       "      <th>2025-03-17</th>\n",
       "      <td>388.700012</td>\n",
       "      <td>214.000000</td>\n",
       "    </tr>\n",
       "    <tr>\n",
       "      <th>2025-03-18</th>\n",
       "      <td>383.519989</td>\n",
       "      <td>212.690002</td>\n",
       "    </tr>\n",
       "    <tr>\n",
       "      <th>2025-03-19</th>\n",
       "      <td>387.820007</td>\n",
       "      <td>215.240005</td>\n",
       "    </tr>\n",
       "    <tr>\n",
       "      <th>2025-03-20</th>\n",
       "      <td>386.839996</td>\n",
       "      <td>214.100006</td>\n",
       "    </tr>\n",
       "    <tr>\n",
       "      <th>2025-03-21</th>\n",
       "      <td>391.260010</td>\n",
       "      <td>218.270004</td>\n",
       "    </tr>\n",
       "  </tbody>\n",
       "</table>\n",
       "<p>249 rows × 2 columns</p>\n",
       "</div>"
      ],
      "text/plain": [
       "                  msft        aapl\n",
       "Date                              \n",
       "2024-03-25  419.656067  170.047073\n",
       "2024-03-26  418.455261  168.912430\n",
       "2024-03-27  418.236938  172.495499\n",
       "2024-03-28  417.532288  170.674103\n",
       "2024-04-01  421.353088  169.230927\n",
       "...                ...         ...\n",
       "2025-03-17  388.700012  214.000000\n",
       "2025-03-18  383.519989  212.690002\n",
       "2025-03-19  387.820007  215.240005\n",
       "2025-03-20  386.839996  214.100006\n",
       "2025-03-21  391.260010  218.270004\n",
       "\n",
       "[249 rows x 2 columns]"
      ]
     },
     "execution_count": 8,
     "metadata": {},
     "output_type": "execute_result"
    }
   ],
   "source": [
    "portfolio"
   ]
  },
  {
   "cell_type": "code",
   "execution_count": 10,
   "id": "a6e5a36b-1341-4ecc-84b4-9dc9f0a0edf3",
   "metadata": {},
   "outputs": [],
   "source": [
    "msft = portfolio[['msft']].copy()\n",
    "aapl = portfolio[['aapl']].copy()"
   ]
  },
  {
   "cell_type": "code",
   "execution_count": 12,
   "id": "fa0ec9a1-e131-4dee-9cca-fb996c9af504",
   "metadata": {},
   "outputs": [
    {
     "data": {
      "text/plain": [
       "(pandas.core.frame.DataFrame, pandas.core.frame.DataFrame)"
      ]
     },
     "execution_count": 12,
     "metadata": {},
     "output_type": "execute_result"
    }
   ],
   "source": []
  },
  {
   "cell_type": "code",
   "execution_count": 14,
   "id": "b1709f6e-bfd3-4f1c-948a-7da5fd0ca9ad",
   "metadata": {},
   "outputs": [],
   "source": [
    "msft['normal_returns'] = msft['msft'].pct_change()\n",
    "msft['log_returns'] = np.log(msft['msft'] / msft['msft'].shift(1))\n",
    "\n",
    "aapl['normal_returns'] = aapl['aapl'].pct_change()\n",
    "aapl['log_returns'] = np.log(aapl['aapl'] / aapl['aapl'].shift(1))"
   ]
  },
  {
   "cell_type": "code",
   "execution_count": 19,
   "id": "b9a1b63e-2c61-4cb5-a632-9a161fe384b8",
   "metadata": {},
   "outputs": [
    {
     "data": {
      "text/html": [
       "<div>\n",
       "<style scoped>\n",
       "    .dataframe tbody tr th:only-of-type {\n",
       "        vertical-align: middle;\n",
       "    }\n",
       "\n",
       "    .dataframe tbody tr th {\n",
       "        vertical-align: top;\n",
       "    }\n",
       "\n",
       "    .dataframe thead th {\n",
       "        text-align: right;\n",
       "    }\n",
       "</style>\n",
       "<table border=\"1\" class=\"dataframe\">\n",
       "  <thead>\n",
       "    <tr style=\"text-align: right;\">\n",
       "      <th></th>\n",
       "      <th>msft</th>\n",
       "      <th>aapl</th>\n",
       "      <th>n_returns_msft</th>\n",
       "      <th>l_returns_msft</th>\n",
       "      <th>n_returns_aapl</th>\n",
       "      <th>l_returns_aapl</th>\n",
       "    </tr>\n",
       "    <tr>\n",
       "      <th>Date</th>\n",
       "      <th></th>\n",
       "      <th></th>\n",
       "      <th></th>\n",
       "      <th></th>\n",
       "      <th></th>\n",
       "      <th></th>\n",
       "    </tr>\n",
       "  </thead>\n",
       "  <tbody>\n",
       "    <tr>\n",
       "      <th>2024-03-25</th>\n",
       "      <td>419.656067</td>\n",
       "      <td>170.047073</td>\n",
       "      <td>NaN</td>\n",
       "      <td>NaN</td>\n",
       "      <td>NaN</td>\n",
       "      <td>NaN</td>\n",
       "    </tr>\n",
       "    <tr>\n",
       "      <th>2024-03-26</th>\n",
       "      <td>418.455231</td>\n",
       "      <td>168.912430</td>\n",
       "      <td>-0.002861</td>\n",
       "      <td>-0.002866</td>\n",
       "      <td>-0.006673</td>\n",
       "      <td>-0.006695</td>\n",
       "    </tr>\n",
       "    <tr>\n",
       "      <th>2024-03-27</th>\n",
       "      <td>418.236908</td>\n",
       "      <td>172.495499</td>\n",
       "      <td>-0.000522</td>\n",
       "      <td>-0.000522</td>\n",
       "      <td>0.021213</td>\n",
       "      <td>0.020991</td>\n",
       "    </tr>\n",
       "    <tr>\n",
       "      <th>2024-03-28</th>\n",
       "      <td>417.532318</td>\n",
       "      <td>170.674103</td>\n",
       "      <td>-0.001685</td>\n",
       "      <td>-0.001686</td>\n",
       "      <td>-0.010559</td>\n",
       "      <td>-0.010615</td>\n",
       "    </tr>\n",
       "    <tr>\n",
       "      <th>2024-04-01</th>\n",
       "      <td>421.353119</td>\n",
       "      <td>169.230927</td>\n",
       "      <td>0.009151</td>\n",
       "      <td>0.009109</td>\n",
       "      <td>-0.008456</td>\n",
       "      <td>-0.008492</td>\n",
       "    </tr>\n",
       "    <tr>\n",
       "      <th>...</th>\n",
       "      <td>...</td>\n",
       "      <td>...</td>\n",
       "      <td>...</td>\n",
       "      <td>...</td>\n",
       "      <td>...</td>\n",
       "      <td>...</td>\n",
       "    </tr>\n",
       "    <tr>\n",
       "      <th>2025-03-17</th>\n",
       "      <td>388.700012</td>\n",
       "      <td>214.000000</td>\n",
       "      <td>0.000360</td>\n",
       "      <td>0.000360</td>\n",
       "      <td>0.002389</td>\n",
       "      <td>0.002386</td>\n",
       "    </tr>\n",
       "    <tr>\n",
       "      <th>2025-03-18</th>\n",
       "      <td>383.519989</td>\n",
       "      <td>212.690002</td>\n",
       "      <td>-0.013327</td>\n",
       "      <td>-0.013416</td>\n",
       "      <td>-0.006121</td>\n",
       "      <td>-0.006140</td>\n",
       "    </tr>\n",
       "    <tr>\n",
       "      <th>2025-03-19</th>\n",
       "      <td>387.820007</td>\n",
       "      <td>215.240005</td>\n",
       "      <td>0.011212</td>\n",
       "      <td>0.011150</td>\n",
       "      <td>0.011989</td>\n",
       "      <td>0.011918</td>\n",
       "    </tr>\n",
       "    <tr>\n",
       "      <th>2025-03-20</th>\n",
       "      <td>386.839996</td>\n",
       "      <td>214.100006</td>\n",
       "      <td>-0.002527</td>\n",
       "      <td>-0.002530</td>\n",
       "      <td>-0.005296</td>\n",
       "      <td>-0.005310</td>\n",
       "    </tr>\n",
       "    <tr>\n",
       "      <th>2025-03-21</th>\n",
       "      <td>391.260010</td>\n",
       "      <td>218.270004</td>\n",
       "      <td>0.011426</td>\n",
       "      <td>0.011361</td>\n",
       "      <td>0.019477</td>\n",
       "      <td>0.019290</td>\n",
       "    </tr>\n",
       "  </tbody>\n",
       "</table>\n",
       "<p>249 rows × 6 columns</p>\n",
       "</div>"
      ],
      "text/plain": [
       "                  msft        aapl  n_returns_msft  l_returns_msft  \\\n",
       "Date                                                                 \n",
       "2024-03-25  419.656067  170.047073             NaN             NaN   \n",
       "2024-03-26  418.455231  168.912430       -0.002861       -0.002866   \n",
       "2024-03-27  418.236908  172.495499       -0.000522       -0.000522   \n",
       "2024-03-28  417.532318  170.674103       -0.001685       -0.001686   \n",
       "2024-04-01  421.353119  169.230927        0.009151        0.009109   \n",
       "...                ...         ...             ...             ...   \n",
       "2025-03-17  388.700012  214.000000        0.000360        0.000360   \n",
       "2025-03-18  383.519989  212.690002       -0.013327       -0.013416   \n",
       "2025-03-19  387.820007  215.240005        0.011212        0.011150   \n",
       "2025-03-20  386.839996  214.100006       -0.002527       -0.002530   \n",
       "2025-03-21  391.260010  218.270004        0.011426        0.011361   \n",
       "\n",
       "            n_returns_aapl  l_returns_aapl  \n",
       "Date                                        \n",
       "2024-03-25             NaN             NaN  \n",
       "2024-03-26       -0.006673       -0.006695  \n",
       "2024-03-27        0.021213        0.020991  \n",
       "2024-03-28       -0.010559       -0.010615  \n",
       "2024-04-01       -0.008456       -0.008492  \n",
       "...                    ...             ...  \n",
       "2025-03-17        0.002389        0.002386  \n",
       "2025-03-18       -0.006121       -0.006140  \n",
       "2025-03-19        0.011989        0.011918  \n",
       "2025-03-20       -0.005296       -0.005310  \n",
       "2025-03-21        0.019477        0.019290  \n",
       "\n",
       "[249 rows x 6 columns]"
      ]
     },
     "execution_count": 19,
     "metadata": {},
     "output_type": "execute_result"
    }
   ],
   "source": [
    "pric"
   ]
  },
  {
   "cell_type": "code",
   "execution_count": null,
   "id": "4e16d780-7f52-41c7-8613-997d462963ed",
   "metadata": {},
   "outputs": [],
   "source": [
    "volatility_msft = "
   ]
  },
  {
   "cell_type": "code",
   "execution_count": null,
   "id": "62284e37-3e29-4896-b24f-3cb39c5d53b0",
   "metadata": {},
   "outputs": [],
   "source": []
  },
  {
   "cell_type": "code",
   "execution_count": null,
   "id": "8d0f942f-b0f6-4a19-9726-be53f8ada2c8",
   "metadata": {},
   "outputs": [],
   "source": []
  },
  {
   "cell_type": "code",
   "execution_count": null,
   "id": "a8ac1211-eebf-4f6c-90ad-ed490c3a9420",
   "metadata": {},
   "outputs": [],
   "source": []
  },
  {
   "cell_type": "code",
   "execution_count": 15,
   "id": "a90d23c5-53d7-4592-accd-72f57b708852",
   "metadata": {},
   "outputs": [],
   "source": [
    "# Calculate returns\n",
    "prices = calculate_returns(prices)\n",
    "\n",
    "# Compute volatility\n",
    "volatilities = normal_returns.std() * np.sqrt(249)\n",
    "\n",
    "# Portfolio volatility assuming equal weights\n",
    "weights = np.array([0.5, 0.5])  # Adjust as needed\n",
    "port_vol = portfolio_volatility(weights, normal_returns)"
   ]
  },
  {
   "cell_type": "code",
   "execution_count": null,
   "id": "6e13ece4-dce7-4f1e-b40f-0da851a8831b",
   "metadata": {},
   "outputs": [],
   "source": [
    "# Get stock data\n",
    "# Get stock data and align indices properly\n",
    "prices = pd.concat([get_stock_data(stock, start_date, end_date) for stock in stocks], axis=1)\n",
    "prices.columns = stocks  # Rename columns with stock names\n",
    "\n",
    "\n",
    "\n",
    "# Plot returns\n",
    "plt.figure(figsize=(10, 5))\n",
    "plt.plot(normal_returns, label=stocks)\n",
    "plt.legend()\n",
    "plt.title(\"Daily Normal Returns\")\n",
    "plt.xlabel(\"Date\")\n",
    "plt.ylabel(\"Returns\")\n",
    "plt.show()\n",
    "\n",
    "print(\"Stock Volatilities:\")\n",
    "print(volatilities)\n",
    "print(\"Portfolio Volatility:\", port_vol)\n"
   ]
  }
 ],
 "metadata": {
  "kernelspec": {
   "display_name": "Python 3 (ipykernel)",
   "language": "python",
   "name": "python3"
  },
  "language_info": {
   "codemirror_mode": {
    "name": "ipython",
    "version": 3
   },
   "file_extension": ".py",
   "mimetype": "text/x-python",
   "name": "python",
   "nbconvert_exporter": "python",
   "pygments_lexer": "ipython3",
   "version": "3.10.12"
  }
 },
 "nbformat": 4,
 "nbformat_minor": 5
}

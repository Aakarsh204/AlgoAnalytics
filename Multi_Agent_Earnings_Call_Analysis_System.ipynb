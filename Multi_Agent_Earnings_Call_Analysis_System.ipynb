{
  "cells": [
    {
      "cell_type": "markdown",
      "metadata": {
        "id": "view-in-github",
        "colab_type": "text"
      },
      "source": [
        "<a href=\"https://colab.research.google.com/github/Aakarsh204/AlgoAnalytics/blob/main/Multi_Agent_Earnings_Call_Analysis_System.ipynb\" target=\"_parent\"><img src=\"https://colab.research.google.com/assets/colab-badge.svg\" alt=\"Open In Colab\"/></a>"
      ]
    },
    {
      "cell_type": "markdown",
      "metadata": {
        "id": "Pj19s06sg6-0"
      },
      "source": [
        "# Multi-Agent Earnings Call Analysis System (MAECAS)\n",
        "\n",
        "Companies earnings calls provide critical insights into a company's performance, strategy, and future outlook. However, these transcripts are lengthy, dense, and cover diverse topics - making it challenging to extract targeted insights efficiently.\n",
        "\n",
        "## The Problem\n",
        "\n",
        "Quarterly earnings calls provide critical insights into company performance, strategies, and outlook, but extracting meaningful analysis presents significant challenges:\n",
        "\n",
        "- Earnings call transcripts are lengthy and dense, often spanning 20+ pages of complex financial discussions\n",
        "Key insights are scattered throughout the text without clear organization.\n",
        "- Different stakeholders need different types of information (financial metrics, strategic initiatives, risk factors).\n",
        "- Cross-quarter analysis requires manually tracking evolving narratives across multiple calls.\n",
        "- Traditional manual analysis is time-consuming, inconsistent, and prone to missing important details.\n",
        "\n",
        "## Why This Matters\n",
        "\n",
        "For investors, analysts, and business leaders, comprehensive earnings call analysis delivers significant value:\n",
        "\n",
        "- Time Efficiency: Reduce analysis time from days to minutes\n",
        "- Decision Support: Provide structured insights for investment and strategic decisions\n",
        "- Comprehensive Coverage: Ensure no important insights are missed\n",
        "- Consistent Analysis: Apply the same analytical rigor to every transcript\n",
        "- Trend Detection: Identify patterns across quarters that might otherwise go unnoticed\n",
        "\n",
        "## Our Solution\n",
        "\n",
        "The Earnings Call Analysis Orchestrator transforms how earnings calls are processed through a multi-agent workflow that:\n",
        "\n",
        "1. Extracts insights from quarterly transcripts using specialized analysis agents\n",
        "2. Delivers both comprehensive reports and targeted query responses\n",
        "3. Identifies trends and patterns across quarters\n",
        "4. Maintains a structured knowledge base of earnings insights\n",
        "\n",
        "## Specialized Analysis Agents\n",
        "\n",
        "Our system employs specialized agents working in coordination to deliver comprehensive analysis:\n",
        "\n",
        "**Financial Agent:** Extracts revenue figures, profit margins, growth metrics, and other quantifiable performance indicators.\n",
        "\n",
        "**Strategic Agent:** Identifies product roadmaps, market expansions, partnerships, and long-term vision initiatives.\n",
        "\n",
        "**Sentiment Agent:** Evaluates management's confidence, tone, and enthusiasm across different business segments.\n",
        "\n",
        "**Risk Agent:** Detects supply chain, market, regulatory challenges, and assesses their severity and mitigation plans.\n",
        "\n",
        "**Competitor Agent:** Tracks competitive positioning, market share discussions, and differentiation strategies.\n",
        "\n",
        "**Temporal Agent:** Analyzes trends across quarters to identify business trajectory and evolving priorities.\n",
        "\n",
        "## Workflow Orchestration\n",
        "\n",
        "The orchestrator serves as the central coordinator that:\n",
        "\n",
        "- Efficiently processes and caches transcript text using advanced OCR\n",
        "- Activates specialized agents based on analysis needs\n",
        "Stores structured insights in a centralized knowledge base\n",
        "- Generates comprehensive reports with executive summaries, sectional analyses, and outlook\n",
        "- Answers specific queries by leveraging relevant insights across quarters\n",
        "\n",
        "## Dataset\n",
        "\n",
        "For demonstration purposes, we use SUZLON's quarterly earnings call transcripts from 2025:\n",
        "\n",
        "- Q1 2025 Earnings Call Transcript\n",
        "- Q2 2025 Earnings Call Transcript\n",
        "- Q3 2025 Earnings Call Transcript\n",
        "- Q4 2025 Earnings Call Transcript\n",
        "\n",
        "These transcripts contain discussions of financial results, strategic initiatives, market conditions, and forward-looking statements by NVIDIA's management team and their interactions with financial analysts.\n",
        "\n",
        "## Mistral AI Models\n",
        "\n",
        "For our implementation, we use Mistral AI's LLMs:\n",
        "\n",
        "`mistral-small-latest`: Used for general analysis and response generation.\n",
        "\n",
        "`mistral-large-latest`: Used for structured output generation.\n",
        "\n",
        "`mistral-ocr-latest`: Used for PDF transcript extraction and processing.\n",
        "\n",
        "This modular approach enables both in-depth report generation and targeted question answering while maintaining efficiency through selective agent activation and insights reuse."
      ]
    },
    {
      "cell_type": "markdown",
      "metadata": {
        "id": "i0gLJ0Sfbu-X"
      },
      "source": [
        "## Solution Architecture"
      ]
    },
    {
      "cell_type": "markdown",
      "metadata": {
        "id": "OefjR9QHbu-Y"
      },
      "source": [
        "![Solution Architecture](https://github.com/mistralai/cookbook/blob/main/mistral/agents/earnings_calls/solution_architecture.png?raw=1)"
      ]
    },
    {
      "cell_type": "markdown",
      "metadata": {
        "id": "qHuexbDlb1H8"
      },
      "source": [
        "### Installation\n",
        "\n",
        "We need `mistralai` for LLM usage."
      ]
    },
    {
      "cell_type": "code",
      "execution_count": null,
      "metadata": {
        "colab": {
          "base_uri": "https://localhost:8080/"
        },
        "id": "OXBLBunQi4dB",
        "outputId": "191b5f37-4058-40b8-9b29-509f6a190519"
      },
      "outputs": [
        {
          "name": "stdout",
          "output_type": "stream",
          "text": [
            "Collecting mistralai\n",
            "  Downloading mistralai-1.6.0-py3-none-any.whl.metadata (30 kB)\n",
            "Collecting eval-type-backport>=0.2.0 (from mistralai)\n",
            "  Downloading eval_type_backport-0.2.2-py3-none-any.whl.metadata (2.2 kB)\n",
            "Requirement already satisfied: httpx>=0.28.1 in /usr/local/lib/python3.11/dist-packages (from mistralai) (0.28.1)\n",
            "Requirement already satisfied: pydantic>=2.10.3 in /usr/local/lib/python3.11/dist-packages (from mistralai) (2.10.6)\n",
            "Requirement already satisfied: python-dateutil>=2.8.2 in /usr/local/lib/python3.11/dist-packages (from mistralai) (2.8.2)\n",
            "Collecting typing-inspection>=0.4.0 (from mistralai)\n",
            "  Downloading typing_inspection-0.4.0-py3-none-any.whl.metadata (2.6 kB)\n",
            "Requirement already satisfied: anyio in /usr/local/lib/python3.11/dist-packages (from httpx>=0.28.1->mistralai) (4.9.0)\n",
            "Requirement already satisfied: certifi in /usr/local/lib/python3.11/dist-packages (from httpx>=0.28.1->mistralai) (2025.1.31)\n",
            "Requirement already satisfied: httpcore==1.* in /usr/local/lib/python3.11/dist-packages (from httpx>=0.28.1->mistralai) (1.0.7)\n",
            "Requirement already satisfied: idna in /usr/local/lib/python3.11/dist-packages (from httpx>=0.28.1->mistralai) (3.10)\n",
            "Requirement already satisfied: h11<0.15,>=0.13 in /usr/local/lib/python3.11/dist-packages (from httpcore==1.*->httpx>=0.28.1->mistralai) (0.14.0)\n",
            "Requirement already satisfied: annotated-types>=0.6.0 in /usr/local/lib/python3.11/dist-packages (from pydantic>=2.10.3->mistralai) (0.7.0)\n",
            "Requirement already satisfied: pydantic-core==2.27.2 in /usr/local/lib/python3.11/dist-packages (from pydantic>=2.10.3->mistralai) (2.27.2)\n",
            "Requirement already satisfied: typing-extensions>=4.12.2 in /usr/local/lib/python3.11/dist-packages (from pydantic>=2.10.3->mistralai) (4.12.2)\n",
            "Requirement already satisfied: six>=1.5 in /usr/local/lib/python3.11/dist-packages (from python-dateutil>=2.8.2->mistralai) (1.17.0)\n",
            "Requirement already satisfied: sniffio>=1.1 in /usr/local/lib/python3.11/dist-packages (from anyio->httpx>=0.28.1->mistralai) (1.3.1)\n",
            "Downloading mistralai-1.6.0-py3-none-any.whl (288 kB)\n",
            "\u001b[2K   \u001b[90m━━━━━━━━━━━━━━━━━━━━━━━━━━━━━━━━━━━━━━━━\u001b[0m \u001b[32m288.7/288.7 kB\u001b[0m \u001b[31m7.7 MB/s\u001b[0m eta \u001b[36m0:00:00\u001b[0m\n",
            "\u001b[?25hDownloading eval_type_backport-0.2.2-py3-none-any.whl (5.8 kB)\n",
            "Downloading typing_inspection-0.4.0-py3-none-any.whl (14 kB)\n",
            "Installing collected packages: typing-inspection, eval-type-backport, mistralai\n",
            "Successfully installed eval-type-backport-0.2.2 mistralai-1.6.0 typing-inspection-0.4.0\n"
          ]
        }
      ],
      "source": [
        "!pip install mistralai"
      ]
    },
    {
      "cell_type": "markdown",
      "metadata": {
        "id": "YaffIwz8cDqq"
      },
      "source": [
        "## Imports"
      ]
    },
    {
      "cell_type": "code",
      "execution_count": 2,
      "metadata": {
        "id": "MdB3wQHwg-Si"
      },
      "outputs": [],
      "source": [
        "import os\n",
        "import json\n",
        "import hashlib\n",
        "from datetime import datetime\n",
        "from pathlib import Path\n",
        "from typing import List, Dict, Any, Literal, Optional, Union\n",
        "from abc import ABC, abstractmethod\n",
        "\n",
        "from pydantic import BaseModel, Field\n",
        "from mistralai import Mistral\n",
        "from IPython.display import display, Markdown"
      ]
    },
    {
      "cell_type": "markdown",
      "metadata": {
        "id": "04dM4KZ7c4Ka"
      },
      "source": [
        "### Setup API Keys\n",
        "\n",
        "Here we setup MistralAI API key."
      ]
    },
    {
      "cell_type": "code",
      "execution_count": 3,
      "metadata": {
        "id": "YS9GkS0C5emx"
      },
      "outputs": [],
      "source": [
        "os.environ['MISTRAL_API_KEY'] = 'TNRtwVoyGwtSHOkKgD5BISXDRAoqUVme'  # Get your API key from https://console.mistral.ai/api-keys/\n",
        "api_key = os.environ.get('MISTRAL_API_KEY')"
      ]
    },
    {
      "cell_type": "markdown",
      "metadata": {
        "id": "99ppNztWc9a6"
      },
      "source": [
        "### Initialize Mistral client\n",
        "\n",
        "Here we initialise Mistral client."
      ]
    },
    {
      "cell_type": "code",
      "execution_count": 4,
      "metadata": {
        "id": "iMSAa1kQ5gjB"
      },
      "outputs": [],
      "source": [
        "mistral_client = Mistral(api_key=os.environ.get(\"MISTRAL_API_KEY\"))"
      ]
    },
    {
      "cell_type": "markdown",
      "metadata": {
        "id": "Hk2f7ZjPbu-a"
      },
      "source": [
        "### Download Data\n",
        "\n",
        "We will use SUZLON's quarterly earnings call transcripts from 2025:\n",
        "\n",
        "- Q1 2025 Earnings Call Transcript\n",
        "- Q2 2025 Earnings Call Transcript\n",
        "- Q3 2025 Earnings Call Transcript\n",
        "- Q4 2025 Earnings Call Transcript\n",
        "\n",
        "These transcripts contain discussions of financial results, strategic initiatives, market conditions, and forward-looking statements by SUZLON's management team and their interactions with financial analysts.\n",
        "\n"
      ]
    },
    {
      "cell_type": "markdown",
      "metadata": {
        "id": "vLtH3xWOc8l_"
      },
      "source": [
        "### Initiate Models\n",
        "\n",
        "1. DEFAULT_MODEL - For General Analysis\n",
        "\n",
        "2. STRUCTURED_MODEL - For Structured Outputs\n",
        "\n",
        "3. OCR_MODEL - For parsing the earnings call document."
      ]
    },
    {
      "cell_type": "code",
      "execution_count": 6,
      "metadata": {
        "id": "3fjrpph9hCXY"
      },
      "outputs": [],
      "source": [
        "DEFAULT_MODEL = \"mistral-small-latest\"\n",
        "STRUCTURED_MODEL = \"mistral-large-latest\"\n",
        "OCR_MODEL = \"mistral-ocr-latest\""
      ]
    },
    {
      "cell_type": "markdown",
      "metadata": {
        "id": "Fk7HdJvfdoJQ"
      },
      "source": [
        "### Data Models\n",
        "\n",
        "The solution uses specialized Pydantic models to structure and extract insights:\n",
        "\n",
        "#### Core Analysis Models\n",
        "- **FinancialInsight**: Captures metrics, values, and confidence scores for financial performance\n",
        "- **StrategicInsight**: Represents initiatives, descriptions, timeframes, and importance ratings\n",
        "- **SentimentInsight**: Tracks topic sentiment, evidence, and speaker attributions\n",
        "- **RiskInsight**: Documents risks, impacts, mitigations, and severity scores\n",
        "- **CompetitorInsight**: Records market segments, positioning, and competitive dynamics\n",
        "- **TemporalInsight**: Identifies trends, patterns, and supporting evidence across quarters\n",
        "\n",
        "#### Workflow Models\n",
        "- **QueryAnalysis**: Determines required quarters, agent types, and analysis dimensions from user queries\n",
        "- **ReportSection**: Structures report content with title, body, and optional subsections\n",
        "\n",
        "#### Response Wrappers\n",
        "- Each analysis model has a corresponding response wrapper (e.g., FinancialInsightsResponse) that packages insights into structured formats compatible with the Mistral API parsing capabilities\n",
        "\n",
        "\n",
        "The models use Python's Literal types for categorized fields (such as sentiment levels or trend types) to enforce strict validation and ensure consistent terminology, enabling reliable cross-quarter comparisons while providing consistent knowledge extraction, storage, and retrieval across multiple analysis dimensions for both comprehensive reports and targeted queries."
      ]
    },
    {
      "cell_type": "markdown",
      "metadata": {
        "id": "8jWa2MRsdu_v"
      },
      "source": [
        "#### Financial Insight"
      ]
    },
    {
      "cell_type": "code",
      "execution_count": 7,
      "metadata": {
        "id": "DWfskgSddCJn"
      },
      "outputs": [],
      "source": [
        "class FinancialInsight(BaseModel):\n",
        "    \"\"\"Financial insights extracted from transcript\"\"\"\n",
        "    metric_name: str = Field(description=\"Name of the financial metric\")\n",
        "    value: Optional[str] = Field(description=\"Numerical or textual value of the metric\")\n",
        "    context: str = Field(description=\"Surrounding context for the metric\")\n",
        "    quarter: Literal[\"Q1\", \"Q2\", \"Q3\", \"Q4\"] = Field(description=\"Quarter the insight relates to (e.g., Q1, Q2)\")\n",
        "    confidence: float = Field(description=\"Confidence score for the insight with limits ge=0.0, le=1.0\")\n",
        "\n",
        "class FinancialInsightsResponse(BaseModel):\n",
        "    \"\"\"Wrapper for list of financial insights\"\"\"\n",
        "    insights: List[FinancialInsight] = Field(description=\"Collection of financial insights\")"
      ]
    },
    {
      "cell_type": "markdown",
      "metadata": {
        "id": "IFA_6V2ed0zb"
      },
      "source": [
        "#### Strategic Insight"
      ]
    },
    {
      "cell_type": "code",
      "execution_count": 8,
      "metadata": {
        "id": "Yn7LSeusd0bG"
      },
      "outputs": [],
      "source": [
        "class StrategicInsight(BaseModel):\n",
        "    \"\"\"Strategic insights about business direction\"\"\"\n",
        "    initiative: str = Field(description=\"Name of the strategic initiative\")\n",
        "    description: str = Field(description=\"Details about the strategic initiative\")\n",
        "    timeframe: Optional[str] = Field(description=\"Expected timeline for implementation\")\n",
        "    quarter: Literal[\"Q1\", \"Q2\", \"Q3\", \"Q4\"] = Field(description=\"Quarter the insight relates to (e.g., Q1, Q2, Q3, Q4)\")\n",
        "    importance: int = Field(description=\"Importance rating with limits ge=1, le=5\")\n",
        "\n",
        "class StrategicInsightsResponse(BaseModel):\n",
        "    \"\"\"Wrapper for list of strategic insights\"\"\"\n",
        "    insights: List[StrategicInsight] = Field(description=\"Collection of strategic insights\")"
      ]
    },
    {
      "cell_type": "markdown",
      "metadata": {
        "id": "__EMeySFd4rn"
      },
      "source": [
        "#### Sentiment Insight"
      ]
    },
    {
      "cell_type": "code",
      "execution_count": 9,
      "metadata": {
        "id": "cf48CNhRd4HS"
      },
      "outputs": [],
      "source": [
        "class SentimentInsight(BaseModel):\n",
        "    \"\"\"Insights about management sentiment\"\"\"\n",
        "    topic: str = Field(description=\"Subject matter being discussed\")\n",
        "    sentiment: Literal[\"very negative\", \"negative\", \"neutral\", \"positive\", \"very positive\"] = Field(description=\"Tone expressed by management\")\n",
        "    evidence: str = Field(description=\"Quote or context supporting the sentiment analysis\")\n",
        "    speaker: str = Field(description=\"Person who expressed the sentiment\")\n",
        "    quarter: Literal[\"Q1\", \"Q2\", \"Q3\", \"Q4\"] = Field(description=\"Quarter the insight relates to (e.g., Q1, Q2, Q3, Q4)\")\n",
        "\n",
        "class SentimentInsightsResponse(BaseModel):\n",
        "    \"\"\"Wrapper for list of sentiment insights\"\"\"\n",
        "    insights: List[SentimentInsight] = Field(description=\"Collection of sentiment insights\")"
      ]
    },
    {
      "cell_type": "markdown",
      "metadata": {
        "id": "bmjkgdGvd8a6"
      },
      "source": [
        "#### Rist Insight"
      ]
    },
    {
      "cell_type": "code",
      "execution_count": 10,
      "metadata": {
        "id": "vNJAyo42d76K"
      },
      "outputs": [],
      "source": [
        "class RiskInsight(BaseModel):\n",
        "    \"\"\"Identified risks or challenges\"\"\"\n",
        "    risk_factor: str = Field(description=\"Name or type of risk identified\")\n",
        "    description: str = Field(description=\"Details about the risk\")\n",
        "    potential_impact: str = Field(description=\"Possible consequences of the risk\")\n",
        "    mitigation_mentioned: Optional[str] = Field(description=\"Strategies to address the risk\")\n",
        "    quarter: Literal[\"Q1\", \"Q2\", \"Q3\", \"Q4\"] = Field(description=\"Quarter the insight relates to (e.g., Q1, Q2, Q3, Q4)\")\n",
        "    severity: int = Field(description=\"Severity rating with limits ge=1, le=5\")\n",
        "\n",
        "class RiskInsightsResponse(BaseModel):\n",
        "    \"\"\"Wrapper for list of risk insights\"\"\"\n",
        "    insights: List[RiskInsight] = Field(description=\"Collection of risk insights\")"
      ]
    },
    {
      "cell_type": "markdown",
      "metadata": {
        "id": "sglxdUCrd_Wg"
      },
      "source": [
        "#### Competitor Insight"
      ]
    },
    {
      "cell_type": "code",
      "execution_count": 11,
      "metadata": {
        "id": "mHRJLbbMd-5c"
      },
      "outputs": [],
      "source": [
        "class CompetitorInsight(BaseModel):\n",
        "    \"\"\"Insights about competitive positioning\"\"\"\n",
        "    competitor: Optional[str] = Field(description=\"Name of the competitor company\")\n",
        "    market_segment: str = Field(description=\"Specific market area being discussed\")\n",
        "    positioning: str = Field(description=\"Competitive stance or market position\")\n",
        "    quarter: Literal[\"Q1\", \"Q2\", \"Q3\", \"Q4\"] = Field(description=\"Quarter the insight relates to (e.g., Q1, Q2, Q3, Q4)\")\n",
        "    mentioned_by: str = Field(description=\"Person who mentioned the competitive information\")\n",
        "\n",
        "class CompetitorInsightsResponse(BaseModel):\n",
        "    \"\"\"Wrapper for list of competitor insights\"\"\"\n",
        "    insights: List[CompetitorInsight] = Field(description=\"Collection of competitor insights\")"
      ]
    },
    {
      "cell_type": "markdown",
      "metadata": {
        "id": "O3212553eC5l"
      },
      "source": [
        "#### Temporal Insight"
      ]
    },
    {
      "cell_type": "code",
      "execution_count": 12,
      "metadata": {
        "id": "xN9h4HX_eCea"
      },
      "outputs": [],
      "source": [
        "class TemporalInsight(BaseModel):\n",
        "    \"\"\"Insights about trends across quarters\"\"\"\n",
        "    trend_type: Literal[\"growth\", \"decline\", \"stable\", \"volatile\", \"emerging\", \"fading\"] = Field(description=\"Direction or pattern of the trend\")\n",
        "    topic: str = Field(description=\"Subject matter of the trend\")\n",
        "    description: str = Field(description=\"Explanation of the trend's significance\")\n",
        "    quarters_observed: List[Literal[\"Q1\", \"Q2\", \"Q3\", \"Q4\"]] = Field(description=\"Quarters where the trend appears\")\n",
        "    supporting_evidence: str = Field(description=\"Data or quotes supporting the trend identification\")\n",
        "\n",
        "class TemporalInsightsResponse(BaseModel):\n",
        "    \"\"\"Wrapper for list of temporal insights\"\"\"\n",
        "    insights: List[TemporalInsight] = Field(description=\"Collection of temporal insights\")"
      ]
    },
    {
      "cell_type": "markdown",
      "metadata": {
        "id": "c4OBsHaMeGth"
      },
      "source": [
        "#### Query Analysis"
      ]
    },
    {
      "cell_type": "code",
      "execution_count": 13,
      "metadata": {
        "id": "RuSkiVSleGTy"
      },
      "outputs": [],
      "source": [
        "class QueryAnalysis(BaseModel):\n",
        "    \"\"\"Analysis of user query to determine required components\"\"\"\n",
        "    quarters: List[str] = Field(description=\"List of quarters to analyze\")\n",
        "    agent_types: List[str] = Field(description=\"List of agent types to use\")\n",
        "    temporal_analysis_required: bool = Field(description=\"Whether temporal analysis across quarters is needed\")\n",
        "    query_intent: str = Field(description=\"Brief description of user's intent\")"
      ]
    },
    {
      "cell_type": "markdown",
      "metadata": {
        "id": "afaIlPH6eKjj"
      },
      "source": [
        "#### Report Section"
      ]
    },
    {
      "cell_type": "code",
      "execution_count": 14,
      "metadata": {
        "id": "GVaWu5n6eKK_"
      },
      "outputs": [],
      "source": [
        "class ReportSection(BaseModel):\n",
        "    \"\"\"Section of the final report\"\"\"\n",
        "    title: str = Field(description=\"Heading for the report section\")\n",
        "    content: str = Field(description=\"Main text content of the section\")\n",
        "    subsections: Optional[List[\"ReportSection\"]] = Field(description=\"Nested sections within this section.\")"
      ]
    },
    {
      "cell_type": "markdown",
      "metadata": {
        "id": "WCdp3pLKeTHF"
      },
      "source": [
        "### PDF Parser\n",
        "\n",
        "Our PDF parser uses Mistral's OCR capabilities to extract high-quality text from earnings call transcripts while implementing a file-based caching system to improve performance. This approach enables accurate text extraction with minimal processing overhead for repeated analyses."
      ]
    },
    {
      "cell_type": "code",
      "execution_count": 15,
      "metadata": {
        "id": "HReAyqQrhaLh"
      },
      "outputs": [],
      "source": [
        "class PDFParser:\n",
        "    \"\"\"Parse a transcript PDF file and extract text from all pages using Mistral OCR.\"\"\"\n",
        "\n",
        "    CACHE_DIR = Path(\"transcript_cache\")\n",
        "\n",
        "    @staticmethod\n",
        "    def _ensure_cache_dir():\n",
        "        \"\"\"Make sure cache directory exists\"\"\"\n",
        "        PDFParser.CACHE_DIR.mkdir(exist_ok=True)\n",
        "\n",
        "    @staticmethod\n",
        "    def _get_cache_path(file_path: str) -> Path:\n",
        "        \"\"\"Get the path for a cached transcript file\"\"\"\n",
        "        # Create a hash of the file path to use as the cache filename\n",
        "        file_hash = hashlib.md5(file_path.encode()).hexdigest()\n",
        "        return PDFParser.CACHE_DIR / f\"{file_hash}.txt\"\n",
        "\n",
        "    @staticmethod\n",
        "    def read_transcript(file_path: str, mistral_client: Mistral) -> str:\n",
        "        \"\"\"Extract text from PDF transcript using Mistral OCR\"\"\"\n",
        "        print(f\"Processing PDF file: {file_path}\")\n",
        "\n",
        "        uploaded_pdf = mistral_client.files.upload(\n",
        "            file={\n",
        "                \"file_name\": file_path,\n",
        "                \"content\": open(file_path, \"rb\"),\n",
        "            },\n",
        "            purpose=\"ocr\"\n",
        "        )\n",
        "\n",
        "        signed_url = mistral_client.files.get_signed_url(file_id=uploaded_pdf.id)\n",
        "\n",
        "        ocr_response = mistral_client.ocr.process(\n",
        "            model=OCR_MODEL,\n",
        "            document={\n",
        "                \"type\": \"document_url\",\n",
        "                \"document_url\": signed_url.url,\n",
        "            }\n",
        "        )\n",
        "\n",
        "        text = \"\\n\".join([x.markdown for x in (ocr_response.pages)])\n",
        "        return text\n",
        "\n",
        "    @staticmethod\n",
        "    def get_transcript_by_quarter(company: str, quarter: str, year: str, mistral_client: Mistral) -> str:\n",
        "        \"\"\"Get the transcript for a specific quarter\"\"\"\n",
        "        company_lower = company.lower()\n",
        "        file_path = f\"{company_lower}_earnings_{year}_{quarter}.pdf\"\n",
        "\n",
        "        PDFParser._ensure_cache_dir()\n",
        "        cache_path = PDFParser._get_cache_path(file_path)\n",
        "\n",
        "        # Check if transcript is in cache\n",
        "        if cache_path.exists():\n",
        "            print(f\"Using cached transcript for {company} {year} {quarter}\")\n",
        "            with open(cache_path, \"r\", encoding=\"utf-8\") as f:\n",
        "                return f.read()\n",
        "        else:\n",
        "            try:\n",
        "                print(f\"Parsing transcript for {company} {year} {quarter}\")\n",
        "                transcript = PDFParser.read_transcript(file_path, mistral_client)\n",
        "\n",
        "                # Store in cache for future use\n",
        "                with open(cache_path, \"w\", encoding=\"utf-8\") as f:\n",
        "                    f.write(transcript)\n",
        "\n",
        "                print(f\"Cached transcript for {company} {year} {quarter}\")\n",
        "                return transcript\n",
        "            except Exception as e:\n",
        "                print(f\"Error processing transcript: {str(e)}\")\n",
        "                raise"
      ]
    },
    {
      "cell_type": "markdown",
      "metadata": {
        "id": "oA_NpkP4e6oD"
      },
      "source": [
        "### Insights Storage\n",
        "The system includes a centralized InsightsStore component that:\n",
        "\n",
        "- Maintains a persistent JSON database of all extracted insights\n",
        "- Organizes insights by type (financial, strategic, etc.) and quarter\n",
        "- Provides efficient retrieval for both report generation and query answering\n",
        "- Eliminates redundant processing by caching analysis results"
      ]
    },
    {
      "cell_type": "code",
      "execution_count": 16,
      "metadata": {
        "id": "pysB4OBnham9"
      },
      "outputs": [],
      "source": [
        "class InsightsStore:\n",
        "    \"\"\"Centralized storage for insights across all quarters and analysis types\"\"\"\n",
        "\n",
        "    def __init__(self, company: str, year: str):\n",
        "        self.company = company.lower()\n",
        "        self.year = year\n",
        "        self.db_path = Path(f\"{self.company}_{self.year}_insights.json\")\n",
        "        self.insights = self._load_insights()\n",
        "\n",
        "    def _load_insights(self) -> Dict:\n",
        "        \"\"\"Load insights from database file or initialize if not exists\"\"\"\n",
        "        if self.db_path.exists():\n",
        "            with open(self.db_path, \"r\", encoding=\"utf-8\") as f:\n",
        "                return json.load(f)\n",
        "        else:\n",
        "            return {\n",
        "                \"financial\": {},\n",
        "                \"strategic\": {},\n",
        "                \"sentiment\": {},\n",
        "                \"risk\": {},\n",
        "                \"competitor\": {},\n",
        "                \"temporal\": {}\n",
        "            }\n",
        "\n",
        "    def save_insights(self):\n",
        "        \"\"\"Save insights to database file\"\"\"\n",
        "        with open(self.db_path, \"w\", encoding=\"utf-8\") as f:\n",
        "            json.dump(self.insights, f, indent=2)\n",
        "\n",
        "    def add_insights(self, insight_type: str, quarter: str, insights: List):\n",
        "        \"\"\"Add insights for a specific type and quarter\"\"\"\n",
        "        if quarter not in self.insights[insight_type]:\n",
        "            self.insights[insight_type][quarter] = []\n",
        "\n",
        "        # Convert insights to dictionaries for storage\n",
        "        insight_dicts = []\n",
        "        for insight in insights:\n",
        "            if hasattr(insight, \"dict\"):\n",
        "                insight_dicts.append(insight.dict())\n",
        "            elif isinstance(insight, dict):\n",
        "                insight_dicts.append(insight)\n",
        "            else:\n",
        "                insight_dicts.append({\"content\": str(insight)})\n",
        "\n",
        "        # Append new insights\n",
        "        self.insights[insight_type][quarter] = insight_dicts\n",
        "        self.save_insights()\n",
        "\n",
        "    def get_insights(self, insight_type=None, quarters=None):\n",
        "        \"\"\"Retrieve insights, optionally filtered by type and quarters\"\"\"\n",
        "        if insight_type is None:\n",
        "            return self.insights\n",
        "\n",
        "        if quarters is None:\n",
        "            return self.insights[insight_type]\n",
        "\n",
        "        filtered = {}\n",
        "        for q in quarters:\n",
        "            if q in self.insights[insight_type]:\n",
        "                filtered[q] = self.insights[insight_type][q]\n",
        "\n",
        "        return filtered"
      ]
    },
    {
      "cell_type": "markdown",
      "metadata": {
        "id": "F7g26uJYfCvb"
      },
      "source": [
        "### Specialised Agents\n",
        "\n",
        "Our analysis relies on five domain-focused agents, each extracting specific insights:\n",
        "\n",
        "**Financial Agent** - Analyzes metrics, revenue figures, margins, and growth rates.\n",
        "\n",
        "**Strategic Agent** - Identifies product roadmaps, market expansions, and R&D investments.\n",
        "\n",
        "**Sentiment Agent** - Evaluates management tone, confidence levels, and enthusiasm across topics.\n",
        "\n",
        "**Risk Agent** - Detects challenges, uncertainties, and potential threats with severity ratings.\n",
        "\n",
        "**Competitor Agent** - Tracks competitive positioning, market share discussions, and differentiation strategies.\n",
        "\n",
        "Each agent processes transcripts through specialized prompts, producing structured insights that feed into the overall analysis."
      ]
    },
    {
      "cell_type": "markdown",
      "metadata": {
        "id": "Ov3qDGwhfGbQ"
      },
      "source": [
        "#### `Agent` base class for specialised agents"
      ]
    },
    {
      "cell_type": "code",
      "execution_count": 17,
      "metadata": {
        "id": "ewlST1tmfIr8"
      },
      "outputs": [],
      "source": [
        "class Agent(ABC):\n",
        "    \"\"\"Base class for all specialized agents\"\"\"\n",
        "\n",
        "    def __init__(self):\n",
        "        self.client = mistral_client\n",
        "\n",
        "    @abstractmethod\n",
        "    def analyze(self, transcript: str, quarter: str) -> Any:\n",
        "        \"\"\"Analyze the transcript and return insights\"\"\"\n",
        "        pass"
      ]
    },
    {
      "cell_type": "markdown",
      "metadata": {
        "id": "GXErGr3LfKme"
      },
      "source": [
        "#### Financial Agent"
      ]
    },
    {
      "cell_type": "code",
      "execution_count": 18,
      "metadata": {
        "id": "VQ7S2rnXfUoA"
      },
      "outputs": [],
      "source": [
        "class FinancialAgent(Agent):\n",
        "    \"\"\"Agent for financial analysis of earnings call transcripts\"\"\"\n",
        "\n",
        "    def analyze(self, transcript: str, quarter: str) -> List[FinancialInsight]:\n",
        "        \"\"\"Extract financial insights from transcript\"\"\"\n",
        "        system_prompt = \"\"\"\n",
        "        You are a financial analyst focused on extracting key financial metrics and performance\n",
        "        indicators from the earnings call transcripts.\n",
        "\n",
        "        Focus on:\n",
        "        - Revenue figures (overall and by segment)\n",
        "        - Profit margins\n",
        "        - Growth rates\n",
        "        - Forward guidance\n",
        "        - Capital expenditures\n",
        "        - Cash flow metrics\n",
        "        - Any financial KPIs mentioned\n",
        "\n",
        "        Extract only facts that are explicitly stated in the transcript, with their proper context.\n",
        "        Keep the insights as short as possible.\n",
        "        \"\"\"\n",
        "\n",
        "        print(f\"Extracting financial insights for quarter {quarter}...\")\n",
        "\n",
        "        response = self.client.chat.parse(\n",
        "            model=STRUCTURED_MODEL,\n",
        "            messages=[\n",
        "                {\"role\": \"system\", \"content\": system_prompt},\n",
        "                {\"role\": \"user\", \"content\": f\"Extract financial insights from this earnings call transcript for {quarter}:\\n\\n{transcript}\"}\n",
        "            ],\n",
        "            response_format=FinancialInsightsResponse,\n",
        "            temperature=0.1\n",
        "        )\n",
        "\n",
        "        print(f\"Financial agent completed for {quarter}\")\n",
        "        parsed_response = json.loads(response.choices[0].message.content)\n",
        "        return parsed_response['insights']"
      ]
    },
    {
      "cell_type": "markdown",
      "metadata": {
        "id": "B5ZUC4nYfWVZ"
      },
      "source": [
        "#### Strategic Agent."
      ]
    },
    {
      "cell_type": "code",
      "execution_count": 19,
      "metadata": {
        "id": "T7-8_ltdfWo2"
      },
      "outputs": [],
      "source": [
        "class StrategicAgent(Agent):\n",
        "    \"\"\"Agent for strategic analysis of earnings call transcripts\"\"\"\n",
        "\n",
        "    def analyze(self, transcript: str, quarter: str) -> List[StrategicInsight]:\n",
        "        \"\"\"Extract strategic insights from transcript\"\"\"\n",
        "        system_prompt = \"\"\"\n",
        "        You are a business strategy analyst focused on the company's strategic direction.\n",
        "\n",
        "        Extract insights about:\n",
        "        - Product roadmaps\n",
        "        - Market expansions\n",
        "        - Strategic partnerships\n",
        "        - R&D investments\n",
        "        - Long-term vision\n",
        "        - Business model changes\n",
        "        - Market segments of focus\n",
        "\n",
        "        Focus on extracting concrete strategic initiatives and plans, not general statements.\n",
        "        Assign an importance score (1-5) based on how central it appears to the company's strategy.\n",
        "        \"\"\"\n",
        "\n",
        "        print(f\"Extracting strategic insights for quarter {quarter}...\")\n",
        "\n",
        "        response = self.client.chat.parse(\n",
        "            model=STRUCTURED_MODEL,\n",
        "            messages=[\n",
        "                {\"role\": \"system\", \"content\": system_prompt},\n",
        "                {\"role\": \"user\", \"content\": f\"Extract strategic insights from this earnings call transcript for {quarter}:\\n\\n{transcript}\"}\n",
        "            ],\n",
        "            response_format=StrategicInsightsResponse,\n",
        "            temperature=0.1\n",
        "        )\n",
        "\n",
        "        print(f\"Strategic agent completed for {quarter}\")\n",
        "        parsed_response = json.loads(response.choices[0].message.content)\n",
        "        return parsed_response['insights']"
      ]
    },
    {
      "cell_type": "markdown",
      "metadata": {
        "id": "ZnIuEchJf-5Y"
      },
      "source": [
        "#### Sentiment Agent"
      ]
    },
    {
      "cell_type": "code",
      "execution_count": 20,
      "metadata": {
        "id": "o1bBypJjf_M0"
      },
      "outputs": [],
      "source": [
        "class SentimentAgent(Agent):\n",
        "    \"\"\"Agent for sentiment analysis of earnings call transcripts\"\"\"\n",
        "\n",
        "    def analyze(self, transcript: str, quarter: str) -> List[SentimentInsight]:\n",
        "        \"\"\"Extract sentiment insights from transcript\"\"\"\n",
        "        system_prompt = \"\"\"\n",
        "        You are an expert in analyzing sentiment and tone in corporate communications.\n",
        "\n",
        "        Focus on:\n",
        "        - Management's confidence level\n",
        "        - Tone when discussing different business segments\n",
        "        - Enthusiasm for future prospects\n",
        "        - Concerns or hesitations\n",
        "        - Changes in sentiment when answering analyst questions\n",
        "\n",
        "        Extract specific topics and the sentiment expressed about them by specific speakers.\n",
        "        Use the transcript to find evidence of the sentiment you identify.\n",
        "        \"\"\"\n",
        "\n",
        "        print(f\"Extracting sentiment insights for quarter {quarter}...\")\n",
        "\n",
        "        response = self.client.chat.parse(\n",
        "            model=STRUCTURED_MODEL,\n",
        "            messages=[\n",
        "                {\"role\": \"system\", \"content\": system_prompt},\n",
        "                {\"role\": \"user\", \"content\": f\"Extract sentiment insights from this earnings call transcript for {quarter}:\\n\\n{transcript}\"}\n",
        "            ],\n",
        "            response_format=SentimentInsightsResponse,\n",
        "            temperature=0.1\n",
        "        )\n",
        "\n",
        "        print(f\"Sentiment agent completed for {quarter}\")\n",
        "        parsed_response = json.loads(response.choices[0].message.content)\n",
        "        return parsed_response['insights']"
      ]
    },
    {
      "cell_type": "markdown",
      "metadata": {
        "id": "ITOiFVpigEJ4"
      },
      "source": [
        "#### Risk Agent"
      ]
    },
    {
      "cell_type": "code",
      "execution_count": 21,
      "metadata": {
        "id": "--4kBl8CgDfk"
      },
      "outputs": [],
      "source": [
        "class RiskAgent(Agent):\n",
        "    \"\"\"Agent for risk analysis of earnings call transcripts\"\"\"\n",
        "\n",
        "    def analyze(self, transcript: str, quarter: str) -> List[RiskInsight]:\n",
        "        \"\"\"Extract risk insights from transcript\"\"\"\n",
        "        system_prompt = \"\"\"\n",
        "        You are a risk analyst specialized in identifying challenges, uncertainties, and risk factors\n",
        "        mentioned in earnings calls.\n",
        "\n",
        "        Focus on:\n",
        "        - Supply chain challenges\n",
        "        - Market uncertainties\n",
        "        - Competitive pressures\n",
        "        - Regulatory concerns\n",
        "        - Technical challenges\n",
        "        - Execution risks\n",
        "        - Macroeconomic factors\n",
        "\n",
        "        For each risk, identify its potential impact and any mentioned mitigation strategies.\n",
        "        Assign a severity score (1-5) based on how serious the risk appears from the transcript.\n",
        "        \"\"\"\n",
        "\n",
        "        print(f\"Extracting risk insights for quarter {quarter}...\")\n",
        "\n",
        "        response = self.client.chat.parse(\n",
        "            model=STRUCTURED_MODEL,\n",
        "            messages=[\n",
        "                {\"role\": \"system\", \"content\": system_prompt},\n",
        "                {\"role\": \"user\", \"content\": f\"Extract risk insights from this earnings call transcript for {quarter}:\\n\\n{transcript}\"}\n",
        "            ],\n",
        "            response_format=RiskInsightsResponse,\n",
        "            temperature=0.1\n",
        "        )\n",
        "\n",
        "        print(f\"Risk agent completed for {quarter}\")\n",
        "        parsed_response = json.loads(response.choices[0].message.content)\n",
        "        return parsed_response['insights']"
      ]
    },
    {
      "cell_type": "markdown",
      "metadata": {
        "id": "lNw2R_irgHVU"
      },
      "source": [
        "#### Competitor Agent"
      ]
    },
    {
      "cell_type": "code",
      "execution_count": 22,
      "metadata": {
        "id": "IDrhS6qDgHaA"
      },
      "outputs": [],
      "source": [
        "class CompetitorAgent(Agent):\n",
        "    \"\"\"Agent for competitive analysis of earnings call transcripts\"\"\"\n",
        "\n",
        "    def analyze(self, transcript: str, quarter: str) -> List[CompetitorInsight]:\n",
        "        \"\"\"Extract competitor insights from transcript\"\"\"\n",
        "        system_prompt = \"\"\"\n",
        "        You are a competitive intelligence analyst focused on the company's positioning relative to competitors.\n",
        "\n",
        "        Focus on:\n",
        "        - Direct mentions of competitors\n",
        "        - Market share discussions\n",
        "        - Competitive advantages or disadvantages\n",
        "        - Differentiation strategies\n",
        "        - Responses to competitive threats\n",
        "        - Emerging competition\n",
        "\n",
        "        Extract specific insights about the company's competitive positioning in different market segments.\n",
        "        Note who mentioned the competitive information (CEO, CFO, analyst, etc.)\n",
        "        \"\"\"\n",
        "\n",
        "        print(f\"Extracting competitor insights for quarter {quarter}...\")\n",
        "\n",
        "        response = self.client.chat.parse(\n",
        "            model=STRUCTURED_MODEL,\n",
        "            messages=[\n",
        "                {\"role\": \"system\", \"content\": system_prompt},\n",
        "                {\"role\": \"user\", \"content\": f\"Extract competitive insights from this earnings call transcript for {quarter}:\\n\\n{transcript}\"}\n",
        "            ],\n",
        "            response_format=CompetitorInsightsResponse,\n",
        "            temperature=0.1\n",
        "        )\n",
        "\n",
        "        print(f\"Competitor agent completed for {quarter}\")\n",
        "        parsed_response = json.loads(response.choices[0].message.content)\n",
        "        return parsed_response['insights']"
      ]
    },
    {
      "cell_type": "markdown",
      "metadata": {
        "id": "rXEjQVZ7gMs9"
      },
      "source": [
        "#### Temporal Analysis Agent"
      ]
    },
    {
      "cell_type": "code",
      "execution_count": 23,
      "metadata": {
        "id": "XoEumu6Qheqz"
      },
      "outputs": [],
      "source": [
        "class TemporalAnalysisAgent(Agent):\n",
        "    \"\"\"Agent for analyzing trends across quarters\"\"\"\n",
        "\n",
        "    def analyze(self, all_insights: Dict) -> List[TemporalInsight]:\n",
        "        \"\"\"Analyze trends and patterns across quarters\"\"\"\n",
        "        system_prompt = \"\"\"\n",
        "        You are a trend analyst specialized in identifying patterns, changes, and developments\n",
        "        across multiple quarters of earnings calls.\n",
        "\n",
        "        Focus on:\n",
        "        - Growing or declining emphasis on specific topics\n",
        "        - Evolving business priorities\n",
        "        - Shifts in competitive positioning\n",
        "        - Changes in risk factors\n",
        "        - Sentiment trends\n",
        "\n",
        "        Identify meaningful patterns that show how the business is evolving over time.\n",
        "        Use specific evidence from multiple quarters to support each trend you identify.\n",
        "        \"\"\"\n",
        "\n",
        "        print(\"Running temporal analysis across quarters...\")\n",
        "\n",
        "        # Format insights for analysis\n",
        "        formatted_insights = self._format_insights_for_analysis(all_insights)\n",
        "\n",
        "        response = self.client.chat.parse(\n",
        "            model=STRUCTURED_MODEL,\n",
        "            messages=[\n",
        "                {\"role\": \"system\", \"content\": system_prompt},\n",
        "                {\"role\": \"user\", \"content\": f\"Analyze these insights across quarters to identify trends and patterns:\\n\\n{formatted_insights}\"}\n",
        "            ],\n",
        "            response_format=TemporalInsightsResponse,\n",
        "            temperature=0.2\n",
        "        )\n",
        "\n",
        "        print(\"Temporal analysis completed\")\n",
        "        parsed_response = json.loads(response.choices[0].message.content)\n",
        "        return parsed_response['insights']\n",
        "\n",
        "    def _format_insights_for_analysis(self, all_insights: Dict) -> str:\n",
        "        \"\"\"Format all insights for temporal analysis\"\"\"\n",
        "        formatted = \"\"\n",
        "        for agent_type, quarters_data in all_insights.items():\n",
        "            formatted += f\"\\n## {agent_type.capitalize()} Insights Across Quarters:\\n\"\n",
        "            for quarter, insights in quarters_data.items():\n",
        "                formatted += f\"\\n### {quarter}:\\n\"\n",
        "                if isinstance(insights, list):\n",
        "                    for insight in insights:\n",
        "                        # Convert insight object to string representation\n",
        "                        if isinstance(insight, dict):\n",
        "                            insight_str = json.dumps(insight)\n",
        "                        else:\n",
        "                            insight_str = str(insight)\n",
        "                        formatted += f\"- {insight_str}\\n\"\n",
        "                else:\n",
        "                    formatted += f\"{insights}\\n\"\n",
        "        return formatted"
      ]
    },
    {
      "cell_type": "markdown",
      "metadata": {
        "id": "-4QSO83BgSJF"
      },
      "source": [
        "### Query Processor\n",
        "\n",
        "The Query Processor analyzes user questions to determine the specific components needed:\n",
        "\n",
        "- Interprets the queries about SUZLON's earnings calls\n",
        "- Identifies which quarters (Q1-Q4) are relevant to the question\n",
        "- Determines which agent types should be activated based on query content\n",
        "- Decides whether temporal analysis across quarters is required\n",
        "- Provides a clear interpretation of the user's intent\n",
        "\n",
        "This component ensures the workflow activates only the necessary analysis paths, improving efficiency while maintaining comprehensive answers."
      ]
    },
    {
      "cell_type": "code",
      "execution_count": 24,
      "metadata": {
        "id": "NfcDdvwBhiqE"
      },
      "outputs": [],
      "source": [
        "class QueryProcessor:\n",
        "    \"\"\"Processes user queries to determine workflow requirements\"\"\"\n",
        "\n",
        "    def __init__(self):\n",
        "        self.client = mistral_client\n",
        "\n",
        "    def analyze_query(self, query: str, company: str) -> QueryAnalysis:\n",
        "        \"\"\"Analyze user query to determine required components\"\"\"\n",
        "        system_prompt = f\"\"\"\n",
        "        You are a query analyzer for {company} earnings call transcripts.\n",
        "        Extract key information about which quarters and agent types are needed.\n",
        "\n",
        "        For agent_types, select from these options: Financial, Strategic, Sentiment, Risk, Competitor\n",
        "        For quarters, select from these options: Q1, Q2, Q3, Q4\n",
        "\n",
        "        Determine if temporal analysis is needed (comparing across quarters).\n",
        "        Provide a brief description of the user's intent.\n",
        "        \"\"\"\n",
        "\n",
        "        print(f\"Analyzing query: {query}\")\n",
        "\n",
        "        response = self.client.chat.parse(\n",
        "            model=STRUCTURED_MODEL,\n",
        "            messages=[\n",
        "                {\"role\": \"system\", \"content\": system_prompt},\n",
        "                {\"role\": \"user\", \"content\": f\"Analyze this query about {company}: {query}\"}\n",
        "            ],\n",
        "            response_format=QueryAnalysis,\n",
        "            temperature=0\n",
        "        )\n",
        "\n",
        "        print(\"Query analysis completed\")\n",
        "        parsed_response = json.loads(response.choices[0].message.content)\n",
        "\n",
        "        # Display query analysis results\n",
        "        print(f\"Quarters needed: {parsed_response['quarters']}\")\n",
        "        print(f\"Agent types needed: {parsed_response['agent_types']}\")\n",
        "        print(f\"Temporal analysis required: {parsed_response['temporal_analysis_required']}\")\n",
        "        print(f\"Query intent: {parsed_response['query_intent']}\")\n",
        "\n",
        "        return parsed_response"
      ]
    },
    {
      "cell_type": "markdown",
      "metadata": {
        "id": "MUeJG9gSgoCi"
      },
      "source": [
        "### Orchestration Layer\n",
        "\n",
        "The **EarningsCallAnalysisOrchestrator** coordinates the entire analysis workflow with key functions:\n",
        "\n",
        "- **process_transcript()**: Analyzes a quarterly transcript with all specialized agents\n",
        "- **generate_comprehensive_report()**: Creates detailed reports across selected quarters\n",
        "- **answer_query()**: Provides targeted responses to specific earnings call questions\n",
        "- **_generate_report_sections()**: Produces structured sections (financial, strategic, etc.)\n",
        "- **_generate_query_response()**: Crafts focused answers from relevant insights\n",
        "- **_compile_report()**: Assembles all sections into a cohesive markdown document\n",
        "\n",
        "This orchestration ensures efficient resource utilization while delivering both in-depth analysis reports and precise query responses."
      ]
    },
    {
      "cell_type": "code",
      "execution_count": 25,
      "metadata": {
        "id": "c6gPGT6shlC6"
      },
      "outputs": [],
      "source": [
        "class EarningsCallAnalysisOrchestrator:\n",
        "    \"\"\"Agentic workflow orchestrator for earnings call analysis combining report generation and query capabilities\"\"\"\n",
        "\n",
        "    def __init__(self, company: str, year: str, mistral_client: Mistral):\n",
        "        self.company = company\n",
        "        self.year = year\n",
        "        self.insights_store = InsightsStore(company, year)\n",
        "\n",
        "        # Initialize agents\n",
        "        self.financial_agent = FinancialAgent()\n",
        "        self.strategic_agent = StrategicAgent()\n",
        "        self.sentiment_agent = SentimentAgent()\n",
        "        self.risk_agent = RiskAgent()\n",
        "        self.competitor_agent = CompetitorAgent()\n",
        "        self.temporal_agent = TemporalAnalysisAgent()\n",
        "\n",
        "        # Initialize query processor\n",
        "        self.query_processor = QueryProcessor()\n",
        "\n",
        "        # Initialize Mistral client\n",
        "        self.client = mistral_client\n",
        "\n",
        "    def process_transcript(self, quarter: str):\n",
        "        \"\"\"Process a transcript and store all insights\"\"\"\n",
        "        print(f\"\\n=== Processing {self.company} {self.year} {quarter} transcript ===\\n\")\n",
        "\n",
        "        try:\n",
        "            # Get transcript for this quarter\n",
        "            transcript = PDFParser.get_transcript_by_quarter(self.company, quarter, self.year, self.client)\n",
        "\n",
        "            # Run all agents on the transcript\n",
        "            financial_insights = self.financial_agent.analyze(transcript, quarter)\n",
        "            self.insights_store.add_insights(\"financial\", quarter, financial_insights)\n",
        "\n",
        "            strategic_insights = self.strategic_agent.analyze(transcript, quarter)\n",
        "            self.insights_store.add_insights(\"strategic\", quarter, strategic_insights)\n",
        "\n",
        "            sentiment_insights = self.sentiment_agent.analyze(transcript, quarter)\n",
        "            self.insights_store.add_insights(\"sentiment\", quarter, sentiment_insights)\n",
        "\n",
        "            risk_insights = self.risk_agent.analyze(transcript, quarter)\n",
        "            self.insights_store.add_insights(\"risk\", quarter, risk_insights)\n",
        "\n",
        "            competitor_insights = self.competitor_agent.analyze(transcript, quarter)\n",
        "            self.insights_store.add_insights(\"competitor\", quarter, competitor_insights)\n",
        "\n",
        "            print(f\"\\n=== Completed processing {self.company} {self.year} {quarter} transcript ===\\n\")\n",
        "            return True\n",
        "        except Exception as e:\n",
        "            print(f\"Error processing transcript for {quarter}: {str(e)}\")\n",
        "            return False\n",
        "\n",
        "    def process_all_transcripts(self):\n",
        "        \"\"\"Process all quarterly transcripts for the year\"\"\"\n",
        "        all_success = True\n",
        "        for quarter in [\"Q1\", \"Q2\", \"Q3\", \"Q4\"]:\n",
        "            success = self.process_transcript(quarter)\n",
        "            all_success = all_success and success\n",
        "        return all_success\n",
        "\n",
        "    def generate_comprehensive_report(self, quarters=None):\n",
        "        \"\"\"Generate a comprehensive report for specified quarters or all quarters\"\"\"\n",
        "        if quarters is None:\n",
        "            quarters = [\"Q1\", \"Q2\", \"Q3\", \"Q4\"]\n",
        "\n",
        "        print(f\"\\n=== Generating comprehensive report for {self.company} {self.year} {', '.join(quarters)} ===\\n\")\n",
        "\n",
        "        # Ensure all needed transcripts are processed\n",
        "        for quarter in quarters:\n",
        "            if quarter not in self.insights_store.get_insights(\"financial\"):\n",
        "                print(f\"Processing missing transcript for {quarter}...\")\n",
        "                self.process_transcript(quarter)\n",
        "\n",
        "        # Get all insights for the specified quarters\n",
        "        all_insights = {\n",
        "            \"financial\": self.insights_store.get_insights(\"financial\", quarters),\n",
        "            \"strategic\": self.insights_store.get_insights(\"strategic\", quarters),\n",
        "            \"sentiment\": self.insights_store.get_insights(\"sentiment\", quarters),\n",
        "            \"risk\": self.insights_store.get_insights(\"risk\", quarters),\n",
        "            \"competitor\": self.insights_store.get_insights(\"competitor\", quarters)\n",
        "        }\n",
        "\n",
        "        # Run temporal analysis if multiple quarters\n",
        "        if len(quarters) > 1:\n",
        "            temporal_insights = self.temporal_agent.analyze(all_insights)\n",
        "            quarters_key = \"_\".join(sorted(quarters))\n",
        "            self.insights_store.add_insights(\"temporal\", quarters_key, temporal_insights)\n",
        "        else:\n",
        "            temporal_insights = []\n",
        "\n",
        "        # Generate report sections\n",
        "        report_sections = self._generate_report_sections(quarters, all_insights, temporal_insights)\n",
        "\n",
        "        # Compile final report\n",
        "        report_content = self._compile_report(report_sections, quarters)\n",
        "\n",
        "        # Save report to file\n",
        "        output_file = f\"{self.company}_{self.year}_{'_'.join(quarters)}_Analysis.md\"\n",
        "        with open(output_file, \"w\", encoding=\"utf-8\") as f:\n",
        "            f.write(report_content)\n",
        "\n",
        "        print(f\"\\n=== Report saved to {output_file} ===\\n\")\n",
        "        return output_file, report_content\n",
        "\n",
        "    def answer_query(self, query: str):\n",
        "        \"\"\"Answer a specific query about earnings calls\"\"\"\n",
        "        print(f\"\\n=== Processing query: {query} ===\\n\")\n",
        "\n",
        "        # Analyze the query to determine which quarters and agents to use\n",
        "        query_analysis = self.query_processor.analyze_query(query, self.company)\n",
        "\n",
        "        # Ensure we have the necessary insights\n",
        "        for quarter in query_analysis[\"quarters\"]:\n",
        "            if quarter not in self.insights_store.get_insights(\"financial\"):\n",
        "                print(f\"Processing missing transcript for {quarter}...\")\n",
        "                self.process_transcript(quarter)\n",
        "\n",
        "        # Collect relevant insights based on the query\n",
        "        relevant_insights = {}\n",
        "        for agent_type in query_analysis[\"agent_types\"]:\n",
        "            agent_key = agent_type.lower()\n",
        "            relevant_insights[agent_key] = self.insights_store.get_insights(agent_key, query_analysis[\"quarters\"])\n",
        "\n",
        "        # Get temporal insights if needed\n",
        "        temporal_insights = None\n",
        "        if query_analysis[\"temporal_analysis_required\"] and len(query_analysis[\"quarters\"]) > 1:\n",
        "            # Either use existing temporal insights or generate new ones\n",
        "            quarters_key = \"_\".join(sorted(query_analysis[\"quarters\"]))\n",
        "            if quarters_key in self.insights_store.get_insights(\"temporal\"):\n",
        "                temporal_insights = self.insights_store.get_insights(\"temporal\")[quarters_key]\n",
        "            else:\n",
        "                temporal_insights = self.temporal_agent.analyze(relevant_insights)\n",
        "                self.insights_store.add_insights(\"temporal\", quarters_key, temporal_insights)\n",
        "\n",
        "        # Generate response to the query\n",
        "        response = self._generate_query_response(query, query_analysis, relevant_insights, temporal_insights)\n",
        "\n",
        "        print(\"\\n=== Query processing completed ===\\n\")\n",
        "        return response\n",
        "\n",
        "    def _generate_report_sections(self, quarters, all_insights, temporal_insights):\n",
        "        \"\"\"Generate all sections for the comprehensive report\"\"\"\n",
        "        print(\"Generating report sections...\")\n",
        "\n",
        "        report_sections = {}\n",
        "\n",
        "        # Executive Summary\n",
        "        report_sections[\"executive_summary\"] = self._generate_executive_summary(quarters, all_insights, temporal_insights)\n",
        "\n",
        "        # Financial Performance\n",
        "        report_sections[\"financial_performance\"] = self._generate_financial_section(quarters, all_insights)\n",
        "\n",
        "        # Strategic Initiatives\n",
        "        report_sections[\"strategic_initiatives\"] = self._generate_strategic_section(quarters, all_insights)\n",
        "\n",
        "        # Market Positioning\n",
        "        report_sections[\"market_positioning\"] = self._generate_market_section(quarters, all_insights)\n",
        "\n",
        "        # Risk Assessment\n",
        "        report_sections[\"risk_assessment\"] = self._generate_risk_section(quarters, all_insights)\n",
        "\n",
        "        # Quarterly Trends\n",
        "        if len(quarters) > 1:\n",
        "            report_sections[\"quarterly_trends\"] = self._generate_trends_section(temporal_insights)\n",
        "\n",
        "        # Outlook and Projections\n",
        "        if \"Q4\" in quarters or len(quarters) > 2:\n",
        "            report_sections[\"outlook\"] = self._generate_outlook_section(quarters, all_insights, temporal_insights)\n",
        "\n",
        "        print(\"Report sections generated\")\n",
        "        return report_sections\n",
        "\n",
        "    def _generate_executive_summary(self, quarters, all_insights, temporal_insights):\n",
        "        \"\"\"Generate executive summary from all insights\"\"\"\n",
        "        system_prompt = f\"\"\"\n",
        "        You are a senior financial analyst creating an executive summary for a comprehensive report on {self.company}'s\n",
        "        performance across {', '.join(quarters)} of {self.year}.\n",
        "\n",
        "        Create a concise, high-level overview that captures:\n",
        "        1. Key financial performance highlights\n",
        "        2. Major strategic developments\n",
        "        3. Notable shifts in market positioning\n",
        "        4. Significant risks or challenges\n",
        "        5. Overall business trajectory\n",
        "\n",
        "        Keep the summary professional, balanced, and data-driven.\n",
        "\n",
        "        IMPORTANT FORMATTING INSTRUCTIONS:\n",
        "          - Use bullet points (not numbers) for lists with only one item\n",
        "          - Only use numbered lists when there are multiple items that need to be ordered\n",
        "          - Format subheadings as bold text using ** for emphasis\n",
        "        \"\"\"\n",
        "\n",
        "        # Format insights for the summary\n",
        "        formatted_insights = \"\"\n",
        "        for insight_type, quarters_data in all_insights.items():\n",
        "            formatted_insights += f\"\\n## {insight_type.capitalize()} Insights:\\n\"\n",
        "            for quarter, insights in quarters_data.items():\n",
        "                formatted_insights += f\"\\n### {quarter}:\\n\"\n",
        "                for insight in insights[:5]:  # Limit to 5 insights per type per quarter\n",
        "                    formatted_insights += f\"- {json.dumps(insight)}\\n\"\n",
        "\n",
        "        # Add temporal insights if available\n",
        "        if temporal_insights:\n",
        "            formatted_insights += \"\\n## Temporal Trends:\\n\"\n",
        "            for insight in temporal_insights[:10]:  # Limit to 10 temporal insights\n",
        "                if isinstance(insight, dict):\n",
        "                    formatted_insights += f\"- Trend: {insight.get('trend_type', 'N/A')}, Topic: {insight.get('topic', 'N/A')}\\n\"\n",
        "                    formatted_insights += f\"  Description: {insight.get('description', 'N/A')}\\n\"\n",
        "                else:\n",
        "                    formatted_insights += f\"- {str(insight)}\\n\"\n",
        "\n",
        "        response = self.client.chat.complete(\n",
        "            model=DEFAULT_MODEL,\n",
        "            messages=[\n",
        "                {\"role\": \"system\", \"content\": system_prompt},\n",
        "                {\"role\": \"user\", \"content\": f\"Generate an executive summary for {self.company}'s {self.year} performance based on these insights:\\n\\n{formatted_insights}\"}\n",
        "            ],\n",
        "            temperature=0.3\n",
        "        )\n",
        "\n",
        "        return {\n",
        "            \"title\": \"Executive Summary\",\n",
        "            \"content\": response.choices[0].message.content\n",
        "        }\n",
        "\n",
        "    def _generate_financial_section(self, quarters, all_insights):\n",
        "        \"\"\"Generate financial performance section\"\"\"\n",
        "        system_prompt = f\"\"\"\n",
        "        You are a financial analyst creating a detailed report section on {self.company}'s financial performance\n",
        "        across {', '.join(quarters)} of {self.year}.\n",
        "\n",
        "        Create a comprehensive analysis that includes:\n",
        "        1. Quarter-by-quarter revenue analysis (overall and by segment)\n",
        "        2. Profitability metrics and trends\n",
        "        3. Cash flow and balance sheet highlights\n",
        "        4. Key performance indicators and their trajectories\n",
        "        5. Comparison of actual results vs. guidance\n",
        "\n",
        "        Use subsections with clear headings, and include specific figures whenever available.\n",
        "\n",
        "        IMPORTANT FORMATTING INSTRUCTIONS:\n",
        "          - Use bullet points (not numbers) for lists with only one item\n",
        "          - Only use numbered lists when there are multiple items that need to be ordered\n",
        "          - Format subheadings as bold text using ** for emphasis\n",
        "        \"\"\"\n",
        "\n",
        "        # Format financial insights for all quarters\n",
        "        financial_insights = \"\"\n",
        "        for quarter, insights in all_insights[\"financial\"].items():\n",
        "            financial_insights += f\"\\n## {quarter} Financial Insights:\\n\"\n",
        "            for insight in insights:\n",
        "                if isinstance(insight, dict):\n",
        "                    financial_insights += f\"- Metric: {insight.get('metric_name', 'N/A')}, Value: {insight.get('value', 'N/A')}\\n\"\n",
        "                    financial_insights += f\"  Context: {insight.get('context', 'N/A')}\\n\"\n",
        "                else:\n",
        "                    financial_insights += f\"- {str(insight)}\\n\"\n",
        "\n",
        "        response = self.client.chat.complete(\n",
        "            model=DEFAULT_MODEL,\n",
        "            messages=[\n",
        "                {\"role\": \"system\", \"content\": system_prompt},\n",
        "                {\"role\": \"user\", \"content\": f\"Generate a comprehensive financial performance section for {self.company}'s {self.year} based on these insights:\\n\\n{financial_insights}\"}\n",
        "            ],\n",
        "            temperature=0.3\n",
        "        )\n",
        "\n",
        "        return {\n",
        "            \"title\": \"Financial Performance Analysis\",\n",
        "            \"content\": response.choices[0].message.content\n",
        "        }\n",
        "\n",
        "    def _generate_strategic_section(self, quarters, all_insights):\n",
        "        \"\"\"Generate strategic initiatives section\"\"\"\n",
        "        system_prompt = f\"\"\"\n",
        "        You are a business strategy analyst creating a detailed report section on {self.company}'s strategic initiatives\n",
        "        across {', '.join(quarters)} of {self.year}.\n",
        "\n",
        "        Create a comprehensive analysis that includes:\n",
        "        1. Key strategic priorities and how they evolved\n",
        "        2. Product roadmap developments\n",
        "        3. Major partnerships and acquisitions\n",
        "        4. R&D focus areas and investments\n",
        "        5. Market expansion efforts\n",
        "\n",
        "        Organize by major strategic themes, highlighting changes in emphasis over time.\n",
        "\n",
        "        IMPORTANT FORMATTING INSTRUCTIONS:\n",
        "          - Use bullet points (not numbers) for lists with only one item\n",
        "          - Only use numbered lists when there are multiple items that need to be ordered\n",
        "          - Format subheadings as bold text using ** for emphasis\n",
        "        \"\"\"\n",
        "\n",
        "        # Format strategic insights for all quarters\n",
        "        strategic_insights = \"\"\n",
        "        for quarter, insights in all_insights[\"strategic\"].items():\n",
        "            strategic_insights += f\"\\n## {quarter} Strategic Insights:\\n\"\n",
        "            for insight in insights:\n",
        "                if isinstance(insight, dict):\n",
        "                    strategic_insights += f\"- Initiative: {insight.get('initiative', 'N/A')}, Importance: {insight.get('importance', 'N/A')}/5\\n\"\n",
        "                    strategic_insights += f\"  Description: {insight.get('description', 'N/A')}\\n\"\n",
        "                    if insight.get('timeframe'):\n",
        "                        strategic_insights += f\"  Timeframe: {insight.get('timeframe')}\\n\"\n",
        "                else:\n",
        "                    strategic_insights += f\"- {str(insight)}\\n\"\n",
        "\n",
        "        response = self.client.chat.complete(\n",
        "            model=DEFAULT_MODEL,\n",
        "            messages=[\n",
        "                {\"role\": \"system\", \"content\": system_prompt},\n",
        "                {\"role\": \"user\", \"content\": f\"Generate a comprehensive strategic initiatives section for {self.company}'s {self.year} based on these insights:\\n\\n{strategic_insights}\"}\n",
        "            ],\n",
        "            temperature=0.3\n",
        "        )\n",
        "\n",
        "        return {\n",
        "            \"title\": \"Strategic Initiatives Analysis\",\n",
        "            \"content\": response.choices[0].message.content\n",
        "        }\n",
        "\n",
        "    def _generate_market_section(self, quarters, all_insights):\n",
        "        \"\"\"Generate market positioning section\"\"\"\n",
        "        system_prompt = f\"\"\"\n",
        "        You are a market analyst creating a detailed report section on {self.company}'s competitive positioning\n",
        "        across {', '.join(quarters)} of {self.year}.\n",
        "\n",
        "        Create a comprehensive analysis that includes:\n",
        "        1. {self.company}'s position in key market segments\n",
        "        2. Competitive dynamics with major rivals\n",
        "        3. Market share developments\n",
        "        4. Differentiation strategies\n",
        "        5. Emerging competition and responses\n",
        "\n",
        "        Organize by major market segments, analyzing competitive position in each.\n",
        "\n",
        "        IMPORTANT FORMATTING INSTRUCTIONS:\n",
        "          - Use bullet points (not numbers) for lists with only one item\n",
        "          - Only use numbered lists when there are multiple items that need to be ordered\n",
        "          - Format subheadings as bold text using ** for emphasis\n",
        "        \"\"\"\n",
        "\n",
        "        # Format competitor insights for all quarters\n",
        "        competitor_insights = \"\"\n",
        "        for quarter, insights in all_insights[\"competitor\"].items():\n",
        "            competitor_insights += f\"\\n## {quarter} Competitive Insights:\\n\"\n",
        "            for insight in insights:\n",
        "                if isinstance(insight, dict):\n",
        "                    competitor_insights += f\"- Market Segment: {insight.get('market_segment', 'N/A')}\\n\"\n",
        "                    if insight.get('competitor'):\n",
        "                        competitor_insights += f\"  Competitor: {insight.get('competitor')}\\n\"\n",
        "                    competitor_insights += f\"  Positioning: {insight.get('positioning', 'N/A')}\\n\"\n",
        "                    competitor_insights += f\"  Mentioned by: {insight.get('mentioned_by', 'N/A')}\\n\"\n",
        "                else:\n",
        "                    competitor_insights += f\"- {str(insight)}\\n\"\n",
        "\n",
        "        # Also include sentiment insights as they relate to market positioning\n",
        "        for quarter, insights in all_insights[\"sentiment\"].items():\n",
        "            competitor_insights += f\"\\n## {quarter} Sentiment Insights (Market Related):\\n\"\n",
        "            for insight in insights:\n",
        "                if isinstance(insight, dict) and any(market_term in insight.get('topic', '').lower() for market_term in\n",
        "                                                    ['market', 'competitor', 'competition', 'position', 'share']):\n",
        "                    competitor_insights += f\"- Topic: {insight.get('topic', 'N/A')}, Sentiment: {insight.get('sentiment', 'N/A')}\\n\"\n",
        "                    competitor_insights += f\"  Speaker: {insight.get('speaker', 'N/A')}\\n\"\n",
        "                    competitor_insights += f\"  Evidence: {insight.get('evidence', 'N/A')}\\n\"\n",
        "\n",
        "        response = self.client.chat.complete(\n",
        "            model=DEFAULT_MODEL,\n",
        "            messages=[\n",
        "                {\"role\": \"system\", \"content\": system_prompt},\n",
        "                {\"role\": \"user\", \"content\": f\"Generate a comprehensive market positioning section for {self.company}'s {self.year} based on these insights:\\n\\n{competitor_insights}\"}\n",
        "            ],\n",
        "            temperature=0.3\n",
        "        )\n",
        "\n",
        "        return {\n",
        "            \"title\": \"Market Positioning Analysis\",\n",
        "            \"content\": response.choices[0].message.content\n",
        "        }\n",
        "\n",
        "    def _generate_risk_section(self, quarters, all_insights):\n",
        "        \"\"\"Generate risk assessment section\"\"\"\n",
        "        system_prompt = f\"\"\"\n",
        "        You are a risk analyst creating a detailed report section on {self.company}'s risk factors and challenges\n",
        "        across {', '.join(quarters)} of {self.year}.\n",
        "\n",
        "        Create a comprehensive analysis that includes:\n",
        "        1. Major risk categories (supply chain, competition, regulatory, etc.)\n",
        "        2. Evolution of key risks throughout the year\n",
        "        3. Mitigation strategies mentioned by management\n",
        "        4. Emerging vs. declining risk factors\n",
        "        5. Assessment of risk management effectiveness\n",
        "\n",
        "        Organize by risk categories, with severity assessments and trends over time.\n",
        "\n",
        "        IMPORTANT FORMATTING INSTRUCTIONS:\n",
        "          - Use bullet points (not numbers) for lists with only one item\n",
        "          - Only use numbered lists when there are multiple items that need to be ordered\n",
        "          - Format subheadings as bold text using ** for emphasis\n",
        "        \"\"\"\n",
        "\n",
        "        # Format risk insights for all quarters\n",
        "        risk_insights = \"\"\n",
        "        for quarter, insights in all_insights[\"risk\"].items():\n",
        "            risk_insights += f\"\\n## {quarter} Risk Insights:\\n\"\n",
        "            for insight in insights:\n",
        "                if isinstance(insight, dict):\n",
        "                    risk_insights += f\"- Risk Factor: {insight.get('risk_factor', 'N/A')}, Severity: {insight.get('severity', 'N/A')}/5\\n\"\n",
        "                    risk_insights += f\"  Description: {insight.get('description', 'N/A')}\\n\"\n",
        "                    risk_insights += f\"  Potential Impact: {insight.get('potential_impact', 'N/A')}\\n\"\n",
        "                    if insight.get('mitigation_mentioned'):\n",
        "                        risk_insights += f\"  Mitigation: {insight.get('mitigation_mentioned')}\\n\"\n",
        "                else:\n",
        "                    risk_insights += f\"- {str(insight)}\\n\"\n",
        "\n",
        "        response = self.client.chat.complete(\n",
        "            model=DEFAULT_MODEL,\n",
        "            messages=[\n",
        "                {\"role\": \"system\", \"content\": system_prompt},\n",
        "                {\"role\": \"user\", \"content\": f\"Generate a comprehensive risk assessment section for {self.company}'s {self.year} based on these insights:\\n\\n{risk_insights}\"}\n",
        "            ],\n",
        "            temperature=0.3\n",
        "        )\n",
        "\n",
        "        return {\n",
        "            \"title\": \"Risk Assessment\",\n",
        "            \"content\": response.choices[0].message.content\n",
        "        }\n",
        "\n",
        "    def _generate_trends_section(self, temporal_insights):\n",
        "        \"\"\"Generate quarterly trends section\"\"\"\n",
        "        system_prompt = f\"\"\"\n",
        "        You are a business analyst creating a detailed report section on {self.company}'s quarter-to-quarter trends\n",
        "        across multiple dimensions.\n",
        "\n",
        "        Create a comprehensive analysis that includes:\n",
        "        1. Major trends across all analysis dimensions (financial, strategic, etc.)\n",
        "        2. Inflection points or significant shifts during the year\n",
        "        3. Business cycle position and momentum\n",
        "        4. Management focus evolution\n",
        "        5. Market reception changes\n",
        "\n",
        "        Highlight the most significant developments and their implications.\n",
        "\n",
        "        IMPORTANT FORMATTING INSTRUCTIONS:\n",
        "          - Use bullet points (not numbers) for lists with only one item\n",
        "          - Only use numbered lists when there are multiple items that need to be ordered\n",
        "          - Format subheadings as bold text using ** for emphasis\n",
        "        \"\"\"\n",
        "\n",
        "        # Format temporal insights\n",
        "        formatted_temporal_insights = \"\"\n",
        "        for insight in temporal_insights:\n",
        "            if isinstance(insight, dict):\n",
        "                formatted_temporal_insights += f\"- Trend: {insight.get('trend_type', 'N/A')}, Topic: {insight.get('topic', 'N/A')}\\n\"\n",
        "                formatted_temporal_insights += f\"  Description: {insight.get('description', 'N/A')}\\n\"\n",
        "                formatted_temporal_insights += f\"  Quarters: {', '.join(insight.get('quarters_observed', ['N/A']))}\\n\"\n",
        "                formatted_temporal_insights += f\"  Evidence: {insight.get('supporting_evidence', 'N/A')}\\n\\n\"\n",
        "            else:\n",
        "                formatted_temporal_insights += f\"- {str(insight)}\\n\"\n",
        "\n",
        "        response = self.client.chat.complete(\n",
        "            model=DEFAULT_MODEL,\n",
        "            messages=[\n",
        "                {\"role\": \"system\", \"content\": system_prompt},\n",
        "                {\"role\": \"user\", \"content\": f\"Generate a comprehensive quarterly trends section for {self.company}'s {self.year} based on these insights:\\n\\n{formatted_temporal_insights}\"}\n",
        "            ],\n",
        "            temperature=0.3\n",
        "        )\n",
        "\n",
        "        return {\n",
        "            \"title\": \"Quarterly Trends Analysis\",\n",
        "            \"content\": response.choices[0].message.content\n",
        "        }\n",
        "\n",
        "    def _generate_outlook_section(self, quarters, all_insights, temporal_insights):\n",
        "        \"\"\"Generate outlook and projections section\"\"\"\n",
        "        system_prompt = f\"\"\"\n",
        "        You are a forward-looking analyst creating a detailed outlook section for {self.company}\n",
        "        based on earnings call insights across multiple quarters.\n",
        "\n",
        "        Create a comprehensive outlook that includes:\n",
        "        1. Forward guidance from management\n",
        "        2. Key initiatives to watch in the coming year\n",
        "        3. Potential challenges and opportunities\n",
        "        4. Market segment outlooks\n",
        "        5. Long-term strategic trajectory\n",
        "\n",
        "        Focus particularly on the most recent quarter and guidance, but incorporate the full context.\n",
        "\n",
        "        IMPORTANT FORMATTING INSTRUCTIONS:\n",
        "          - Use bullet points (not numbers) for lists with only one item\n",
        "          - Only use numbered lists when there are multiple items that need to be ordered\n",
        "          - Format subheadings as bold text using ** for emphasis\n",
        "        \"\"\"\n",
        "\n",
        "        # Get the latest quarter's insights\n",
        "        latest_quarter = sorted(quarters)[-1]\n",
        "\n",
        "        # Financial insights from latest quarter\n",
        "        latest_insights = f\"\\n## {latest_quarter} Financial Insights:\\n\"\n",
        "        if latest_quarter in all_insights[\"financial\"]:\n",
        "            for insight in all_insights[\"financial\"][latest_quarter]:\n",
        "                if isinstance(insight, dict):\n",
        "                    latest_insights += f\"- Metric: {insight.get('metric_name', 'N/A')}, Value: {insight.get('value', 'N/A')}\\n\"\n",
        "                    latest_insights += f\"  Context: {insight.get('context', 'N/A')}\\n\"\n",
        "                else:\n",
        "                    latest_insights += f\"- {str(insight)}\\n\"\n",
        "\n",
        "        # Strategic insights from latest quarter\n",
        "        latest_insights += f\"\\n## {latest_quarter} Strategic Insights:\\n\"\n",
        "        if latest_quarter in all_insights[\"strategic\"]:\n",
        "            for insight in all_insights[\"strategic\"][latest_quarter]:\n",
        "                if isinstance(insight, dict):\n",
        "                    latest_insights += f\"- Initiative: {insight.get('initiative', 'N/A')}, Importance: {insight.get('importance', 'N/A')}/5\\n\"\n",
        "                    latest_insights += f\"  Description: {insight.get('description', 'N/A')}\\n\"\n",
        "                else:\n",
        "                    latest_insights += f\"- {str(insight)}\\n\"\n",
        "\n",
        "        # Add sentiment insights about future outlook\n",
        "        latest_insights += f\"\\n## {latest_quarter} Sentiment on Future Outlook:\\n\"\n",
        "        if latest_quarter in all_insights[\"sentiment\"]:\n",
        "            for insight in all_insights[\"sentiment\"][latest_quarter]:\n",
        "                if isinstance(insight, dict) and any(future_term in insight.get('topic', '').lower() for future_term in\n",
        "                                                    ['outlook', 'future', 'guidance', 'next quarter', 'next year', 'projection']):\n",
        "                    latest_insights += f\"- Topic: {insight.get('topic', 'N/A')}, Sentiment: {insight.get('sentiment', 'N/A')}\\n\"\n",
        "                    latest_insights += f\"  Speaker: {insight.get('speaker', 'N/A')}\\n\"\n",
        "                    latest_insights += f\"  Evidence: {insight.get('evidence', 'N/A')}\\n\"\n",
        "\n",
        "        # Add temporal insights if available\n",
        "        if temporal_insights:\n",
        "            latest_insights += \"\\n## Overall Trends:\\n\"\n",
        "            for insight in temporal_insights:\n",
        "                if isinstance(insight, dict):\n",
        "                    latest_insights += f\"- Trend: {insight.get('trend_type', 'N/A')}, Topic: {insight.get('topic', 'N/A')}\\n\"\n",
        "                    latest_insights += f\"  Description: {insight.get('description', 'N/A')}\\n\"\n",
        "                else:\n",
        "                    latest_insights += f\"- {str(insight)}\\n\"\n",
        "\n",
        "        response = self.client.chat.complete(\n",
        "            model=DEFAULT_MODEL,\n",
        "            messages=[\n",
        "                {\"role\": \"system\", \"content\": system_prompt},\n",
        "                {\"role\": \"user\", \"content\": f\"Generate a comprehensive outlook and projections section for {self.company} based on their {self.year} earnings calls:\\n\\n{latest_insights}\"}\n",
        "            ],\n",
        "            temperature=0.3\n",
        "        )\n",
        "\n",
        "        return {\n",
        "            \"title\": \"Outlook and Projections\",\n",
        "            \"content\": response.choices[0].message.content\n",
        "        }\n",
        "\n",
        "    def _compile_report(self, report_sections, quarters):\n",
        "        \"\"\"Compile all sections into a final comprehensive report\"\"\"\n",
        "        print(\"Compiling final comprehensive report...\")\n",
        "\n",
        "        # Assemble full report content\n",
        "        report_content = f\"# {self.company} {self.year} Earnings Call Analysis\\n\\n\"\n",
        "\n",
        "        if len(quarters) == 4:\n",
        "            report_content += f\"## Annual Comprehensive Analysis Report\\n\\n\"\n",
        "        else:\n",
        "            report_content += f\"## Analysis Report for {', '.join(quarters)}\\n\\n\"\n",
        "\n",
        "        # Add date generated\n",
        "        report_content += f\"*Generated on: {datetime.now().strftime('%Y-%m-%d %H:%M:%S')}*\\n\\n\"\n",
        "\n",
        "        # Add executive summary\n",
        "        report_content += f\"# {report_sections['executive_summary']['title']}\\n\\n\"\n",
        "        report_content += f\"{report_sections['executive_summary']['content']}\\n\\n\"\n",
        "\n",
        "        # Add financial performance\n",
        "        report_content += f\"# {report_sections['financial_performance']['title']}\\n\\n\"\n",
        "        report_content += f\"{report_sections['financial_performance']['content']}\\n\\n\"\n",
        "\n",
        "        # Add strategic initiatives\n",
        "        report_content += f\"# {report_sections['strategic_initiatives']['title']}\\n\\n\"\n",
        "        report_content += f\"{report_sections['strategic_initiatives']['content']}\\n\\n\"\n",
        "\n",
        "        # Add market positioning\n",
        "        report_content += f\"# {report_sections['market_positioning']['title']}\\n\\n\"\n",
        "        report_content += f\"{report_sections['market_positioning']['content']}\\n\\n\"\n",
        "\n",
        "        # Add risk assessment\n",
        "        report_content += f\"# {report_sections['risk_assessment']['title']}\\n\\n\"\n",
        "        report_content += f\"{report_sections['risk_assessment']['content']}\\n\\n\"\n",
        "\n",
        "        # Add quarterly trends if available\n",
        "        if 'quarterly_trends' in report_sections:\n",
        "            report_content += f\"# {report_sections['quarterly_trends']['title']}\\n\\n\"\n",
        "            report_content += f\"{report_sections['quarterly_trends']['content']}\\n\\n\"\n",
        "\n",
        "        # Add outlook if available\n",
        "        if 'outlook' in report_sections:\n",
        "            report_content += f\"# {report_sections['outlook']['title']}\\n\\n\"\n",
        "            report_content += f\"{report_sections['outlook']['content']}\\n\\n\"\n",
        "\n",
        "        return report_content\n",
        "\n",
        "    def _generate_query_response(self, query, query_analysis, relevant_insights, temporal_insights):\n",
        "        \"\"\"Generate response to a specific query\"\"\"\n",
        "        system_prompt = f\"\"\"\n",
        "        You are an expert analyst of {self.company} earnings calls.\n",
        "        Provide a clear, concise response to the user's query based on the insights provided.\n",
        "        Focus only on answering what was asked, using the most relevant insights.\n",
        "        Include specific data points and evidence from the earnings calls.\n",
        "        \"\"\"\n",
        "\n",
        "        # Format insights for prompt\n",
        "        insights_formatted = \"\"\n",
        "        for insight_type, quarters_data in relevant_insights.items():\n",
        "            insights_formatted += f\"\\n## {insight_type.capitalize()} Insights:\\n\"\n",
        "            for quarter, insights in quarters_data.items():\n",
        "                insights_formatted += f\"\\n### {quarter}:\\n\"\n",
        "                for insight in insights:\n",
        "                    if isinstance(insight, dict):\n",
        "                        insight_formatted = json.dumps(insight)\n",
        "                    else:\n",
        "                        insight_formatted = str(insight)\n",
        "                    insights_formatted += f\"- {insight_formatted}\\n\"\n",
        "\n",
        "        # Add temporal insights if available\n",
        "        temporal_formatted = \"\"\n",
        "        if temporal_insights:\n",
        "            temporal_formatted += \"\\n## Temporal Trends:\\n\"\n",
        "            for insight in temporal_insights:\n",
        "                if isinstance(insight, dict):\n",
        "                    temporal_formatted += f\"- Trend: {insight.get('trend_type', 'N/A')}, Topic: {insight.get('topic', 'N/A')}\\n\"\n",
        "                    temporal_formatted += f\"  Description: {insight.get('description', 'N/A')}\\n\"\n",
        "                    temporal_formatted += f\"  Quarters: {', '.join(insight.get('quarters_observed', ['N/A']))}\\n\"\n",
        "                    temporal_formatted += f\"  Evidence: {insight.get('supporting_evidence', 'N/A')}\\n\"\n",
        "                else:\n",
        "                    temporal_formatted += f\"- {str(insight)}\\n\"\n",
        "\n",
        "        user_prompt = f\"\"\"\n",
        "        Query: {query}\n",
        "\n",
        "        Quarters analyzed: {', '.join(query_analysis['quarters'])}\n",
        "        Agent types used: {', '.join(query_analysis['agent_types'])}\n",
        "\n",
        "        Insights collected:\n",
        "        {insights_formatted}\n",
        "        \"\"\"\n",
        "\n",
        "        if temporal_formatted:\n",
        "            user_prompt += f\"\"\"\n",
        "            Temporal insights:\n",
        "            {temporal_formatted}\n",
        "            \"\"\"\n",
        "\n",
        "        response = self.client.chat.complete(\n",
        "            model=DEFAULT_MODEL,\n",
        "            messages=[\n",
        "                {\"role\": \"system\", \"content\": system_prompt},\n",
        "                {\"role\": \"user\", \"content\": user_prompt}\n",
        "            ],\n",
        "            temperature=0.3\n",
        "        )\n",
        "\n",
        "        return response.choices[0].message.content"
      ]
    },
    {
      "cell_type": "markdown",
      "metadata": {
        "id": "-_O5vAz9gyx9"
      },
      "source": [
        "### Initialize the system for SUZLON 2025 earnings calls"
      ]
    },
    {
      "cell_type": "code",
      "execution_count": 26,
      "metadata": {
        "id": "FQsBVMTEij1_"
      },
      "outputs": [],
      "source": [
        "company = \"SUZLON\"\n",
        "year = \"2025\"\n",
        "orchestrator = EarningsCallAnalysisOrchestrator(company, year, mistral_client)"
      ]
    },
    {
      "cell_type": "markdown",
      "metadata": {
        "id": "yZcL19Cjg242"
      },
      "source": [
        "### Process All Quarterly Transcripts\n",
        "\n",
        "We process all quarterly transcripts and generate different insights at once, making both report generation and query answering more efficient.\n"
      ]
    },
    {
      "cell_type": "code",
      "execution_count": 27,
      "metadata": {
        "colab": {
          "base_uri": "https://localhost:8080/"
        },
        "id": "84LIwqq4imIo",
        "outputId": "f05f565d-981b-4d00-c461-a9bdef6aa658"
      },
      "outputs": [
        {
          "output_type": "stream",
          "name": "stdout",
          "text": [
            "Processing all quarterly transcripts...\n",
            "\n",
            "=== Processing SUZLON 2025 Q1 transcript ===\n",
            "\n",
            "Parsing transcript for SUZLON 2025 Q1\n",
            "Processing PDF file: suzlon_earnings_2025_Q1.pdf\n",
            "Cached transcript for SUZLON 2025 Q1\n",
            "Extracting financial insights for quarter Q1...\n",
            "Financial agent completed for Q1\n",
            "Extracting strategic insights for quarter Q1...\n",
            "Strategic agent completed for Q1\n",
            "Extracting sentiment insights for quarter Q1...\n",
            "Sentiment agent completed for Q1\n",
            "Extracting risk insights for quarter Q1...\n",
            "Risk agent completed for Q1\n",
            "Extracting competitor insights for quarter Q1...\n",
            "Competitor agent completed for Q1\n",
            "\n",
            "=== Completed processing SUZLON 2025 Q1 transcript ===\n",
            "\n",
            "✓ Successfully processed Q1 transcript\n",
            "\n",
            "=== Processing SUZLON 2025 Q2 transcript ===\n",
            "\n",
            "Parsing transcript for SUZLON 2025 Q2\n",
            "Processing PDF file: suzlon_earnings_2025_Q2.pdf\n",
            "Cached transcript for SUZLON 2025 Q2\n",
            "Extracting financial insights for quarter Q2...\n",
            "Financial agent completed for Q2\n",
            "Extracting strategic insights for quarter Q2...\n",
            "Strategic agent completed for Q2\n",
            "Extracting sentiment insights for quarter Q2...\n",
            "Sentiment agent completed for Q2\n",
            "Extracting risk insights for quarter Q2...\n",
            "Risk agent completed for Q2\n",
            "Extracting competitor insights for quarter Q2...\n",
            "Competitor agent completed for Q2\n",
            "\n",
            "=== Completed processing SUZLON 2025 Q2 transcript ===\n",
            "\n",
            "✓ Successfully processed Q2 transcript\n",
            "\n",
            "=== Processing SUZLON 2025 Q3 transcript ===\n",
            "\n",
            "Parsing transcript for SUZLON 2025 Q3\n",
            "Processing PDF file: suzlon_earnings_2025_Q3.pdf\n",
            "Cached transcript for SUZLON 2025 Q3\n",
            "Extracting financial insights for quarter Q3...\n",
            "Financial agent completed for Q3\n",
            "Extracting strategic insights for quarter Q3...\n",
            "Strategic agent completed for Q3\n",
            "Extracting sentiment insights for quarter Q3...\n",
            "Sentiment agent completed for Q3\n",
            "Extracting risk insights for quarter Q3...\n",
            "Risk agent completed for Q3\n",
            "Extracting competitor insights for quarter Q3...\n",
            "Competitor agent completed for Q3\n",
            "\n",
            "=== Completed processing SUZLON 2025 Q3 transcript ===\n",
            "\n",
            "✓ Successfully processed Q3 transcript\n"
          ]
        }
      ],
      "source": [
        "print(\"Processing all quarterly transcripts...\")\n",
        "quarters = [\"Q1\", \"Q2\", \"Q3\"]\n",
        "for quarter in quarters:\n",
        "    success = orchestrator.process_transcript(quarter)\n",
        "    if success:\n",
        "        print(f\"✓ Successfully processed {quarter} transcript\")\n",
        "    else:\n",
        "        print(f\"✗ Failed to process {quarter} transcript\")"
      ]
    },
    {
      "cell_type": "markdown",
      "metadata": {
        "id": "dtaGo1Arha8l"
      },
      "source": [
        "### Report Generation\n",
        "\n",
        "We generate comprehensive report by organizing insights across quarters into structured sections including executive summary, financial analysis, strategic initiatives, market positioning, risk assessment, and future outlook."
      ]
    },
    {
      "cell_type": "code",
      "execution_count": 28,
      "metadata": {
        "colab": {
          "base_uri": "https://localhost:8080/"
        },
        "id": "_RxvYKfOinz9",
        "outputId": "99eaaa72-a411-4384-c91e-fec1d838fc0a"
      },
      "outputs": [
        {
          "output_type": "stream",
          "name": "stdout",
          "text": [
            "\n",
            "Generating comprehensive annual report...\n",
            "\n",
            "=== Generating comprehensive report for SUZLON 2025 Q1, Q2, Q3 ===\n",
            "\n",
            "Running temporal analysis across quarters...\n",
            "Temporal analysis completed\n",
            "Generating report sections...\n",
            "Report sections generated\n",
            "Compiling final comprehensive report...\n",
            "\n",
            "=== Report saved to SUZLON_2025_Q1_Q2_Q3_Analysis.md ===\n",
            "\n"
          ]
        }
      ],
      "source": [
        "print(\"\\nGenerating comprehensive annual report...\")\n",
        "report_file, report_content = orchestrator.generate_comprehensive_report(quarters)"
      ]
    },
    {
      "cell_type": "code",
      "execution_count": 29,
      "metadata": {
        "colab": {
          "base_uri": "https://localhost:8080/",
          "height": 1000
        },
        "id": "cafHPA_TipWe",
        "outputId": "16e4bdbc-58cc-4648-d386-cdd464ec59c6"
      },
      "outputs": [
        {
          "output_type": "stream",
          "name": "stdout",
          "text": [
            "\n",
            "Displaying report saved to: SUZLON_2025_Q1_Q2_Q3_Analysis.md\n"
          ]
        },
        {
          "output_type": "display_data",
          "data": {
            "text/plain": [
              "<IPython.core.display.Markdown object>"
            ],
            "text/markdown": "# SUZLON 2025 Earnings Call Analysis\n\n## Analysis Report for Q1, Q2, Q3\n\n*Generated on: 2025-05-28 06:14:14*\n\n# Executive Summary\n\n# Executive Summary: SUZLON's Performance Across Q1, Q2, and Q3 of 2025\n\n## **Key Financial Performance Highlights**\n\n- **Revenue Growth**: SUZLON demonstrated robust revenue growth across all three quarters. Q1 saw a 50% year-on-year increase, reaching 2,016 crores. This growth continued in Q2 with a 48% year-on-year increase to 2,093 crores, and surged to a 91% year-on-year increase in Q3, reaching 2,969 crores.\n- **EBITDA Performance**: EBITDA margins remained strong, with Q1 reporting an 86% increase to 370 crores and an EBITDA margin of 18.4%. Q2 saw a 31% increase to 294 crores with a margin of 14.1%, and Q3 reported a 102% year-on-year increase to 500 crores with a margin of 16.8%.\n- **Profit After Tax (PAT)**: PAT showed significant growth, with Q1 increasing by 200% to 302 crores. Q2 saw a 96% increase to 201 crores, and Q3 reported a 91% year-on-year increase to 388 crores.\n- **Order Book**: The order book grew consistently, reaching 3.8 GW in Q1, 5.1 GW in Q2, and an all-time high of 5.5 GW in Q3.\n\n## **Major Strategic Developments**\n\n1. **Product Roadmap and R&D**: SUZLON commissioned close to 100 MW of the S144 WTG model, which outperformed design parameters. The company continued to invest in R&D to enhance this model and introduce new technologies.\n2. **Market Expansion**: SUZLON shifted focus towards captive C&I retail segments, which now constitute almost two-thirds of their project mix, offering better pricing and more stable revenue streams.\n3. **Strategic Partnerships**: SUZLON entered into a framework agreement with CESC and secured the largest ever single order from NTPC Green, utilizing a plug-and-play approach.\n4. **Acquisition of Renom**: This acquisition marked SUZLON's entry into the multi-brand O&M sector, unlocking significant growth potential.\n5. **Capacity Expansion**: SUZLON ramped up its manufacturing capacity to over 4.5 GW, with revamped facilities in Pondicherry and Nacelle, and new blade lines in Madhya Pradesh and Rajasthan.\n\n## **Notable Shifts in Market Positioning**\n\n- **Market Leadership**: SUZLON secured a 31% market share in the installed base in India, maintaining leadership across customer segments.\n- **Competitive Edge**: SUZLON's pioneering business model, fully integrated supply chain, and best-in-class service provided a strong competitive edge.\n- **ESG and Sustainability**: SUZLON became a member of the United Nations Global Compact and aligned with the Decarbonization Goal of Net 0 by 2050.\n\n## **Significant Risks or Challenges**\n\n- **Supply Chain Challenges**: Delays in commissioning due to pre-commissioned turbines not being connected to the grid, and severe monsoon disruptions impacting supply chain and delivery.\n- **Market Uncertainties**: Uncertainty in the timing and volume of order inflows and project awards, and potential gaps in the order book.\n- **Regulatory Concerns**: Regulatory hurdles and delays in land acquisition and connectivity, and changes in domestic content criteria and storage pricing.\n- **Execution Risks**: Delays in project execution due to land and connectivity issues, and delays in project readiness and offtake by clients.\n- **Macroeconomic Factors**: Fluctuations in steel prices and potential impact of global economic conditions on demand and pricing.\n\n## **Overall Business Trajectory**\n\nSUZLON's performance across Q1, Q2, and Q3 of 2025 demonstrates a strong upward trajectory. The company has shown consistent revenue growth, improved financial metrics, and a robust order book. Strategic initiatives such as capacity expansion, R&D investments, and strategic partnerships have positioned SUZLON for sustained growth. Despite challenges in the supply chain, market uncertainties, and regulatory hurdles, SUZLON's focus on quality orders, higher value, and better margins, along with its strong competitive positioning, bodes well for its future prospects. The company's commitment to ESG and sustainability further enhances its long-term strategic vision.\n\n# Financial Performance Analysis\n\n# SUZLON Financial Performance Analysis for 2025\n\n## **Quarter-by-Quarter Revenue Analysis**\n\n### **Overall Revenue**\n\n- **Q1 2025:**\n  - Revenue: 2,016 crores\n  - Year-on-year (YoY) growth: 50%\n\n- **Q2 2025:**\n  - Revenue: 2,093 crores\n  - YoY growth: 48%\n\n- **Q3 2025:**\n  - Revenue: 2,969 crores\n  - YoY growth: 91%\n\n### **Revenue by Segment**\n\n- **Wind Turbine Generator (WTG) Segment:**\n  - Contribution margin: 23% (Q1), 22.7% (9-month period of FY25)\n  - Average selling price: 6 crores per MW\n\n- **Operations and Maintenance Services (OMS) Segment:**\n  - Gross margin: 65%\n  - Machine availability: above 96%\n\n## **Profitability Metrics and Trends**\n\n### **EBITDA**\n\n- **Q1 2025:**\n  - EBITDA: 370 crores\n  - EBITDA margin: 18.4%\n  - YoY growth: 86%\n\n- **Q2 2025:**\n  - EBITDA: 294 crores\n  - EBITDA margin: 14.1%\n  - YoY growth: 31%\n\n- **Q3 2025:**\n  - EBITDA: 500 crores\n  - EBITDA margin: 16.8%\n  - YoY growth: 102%\n  - Quarter-on-quarter (QoQ) growth: 70%\n\n### **Profit After Tax (PAT)**\n\n- **Q1 2025:**\n  - PAT: 302 crores\n  - YoY growth: 200%\n\n- **Q2 2025:**\n  - PAT: 201 crores\n  - YoY growth: 96%\n\n- **Q3 2025:**\n  - PAT: 388 crores\n  - YoY growth: 91%\n  - QoQ growth: 93%\n\n## **Cash Flow and Balance Sheet Highlights**\n\n### **Net Worth**\n\n- **Q1 2025:** 4,253 crores\n- **Q2 2025:** 4,495 crores\n- **Q3 2025:** 4,914 crores\n\n### **Net Cash Position**\n\n- **Q1 2025:** 1,197 crores\n- **Q2 2025:** 1,277 crores\n- **Q3 2025:** 1,107 crores\n\n### **Other Key Metrics**\n\n- **Depreciation:** Rs. 60-65 crores per quarter (Q3 2025)\n- **ESOP Expenses:** Rs. 32 crores (Q3 2025), Rs. 116 crores (annual estimate for FY25)\n- **Interest Cost:** Rs. 70 crores (Q3 2025)\n- **CAPEX Guidance:** Rs. 350-400 crores annually for the next 2-3 years\n\n## **Key Performance Indicators and Their Trajectories**\n\n- **Order Book:**\n  - Q1 2025: 3.8 GW\n  - Q2 2025: 5.1 GW (including a single order of 1.16 GW from NTPC)\n  - Q3 2025: 5.5 GW\n\n- **Deliveries:**\n  - Q1 2025: 274 MW (2x of Q1 FY24)\n  - Q2 2025: 256 MW (highest delivery for the second quarter in the last seven years)\n  - Q3 2025: 447 MW (record quarterly delivery, 163% YoY growth)\n  - 9-month delivery (FY25): 977 MW (surpassing the entire FY24 total of 710 MW)\n\n- **Manufacturing Capacity:**\n  - Q1 2025: 3.5 to 4 GW\n  - Q2 2025: Ramped up to 4.5 GW by the end of FY25\n\n- **Wind Installations Forecast:**\n  - FY25: 5 GW\n  - FY26: 6-7 GW\n  - Future years: 9-10 GW yearly\n\n## **Comparison of Actual Results vs. Guidance**\n\n- **Revenue Growth:** Actual revenue growth has consistently exceeded expectations, with significant YoY increases in each quarter.\n- **Profitability:** EBITDA and PAT have shown strong growth, with EBITDA margins improving quarter-over-quarter.\n- **Order Book and Deliveries:** The order book has grown substantially, and deliveries have increased significantly, indicating strong market demand and operational efficiency.\n- **Cash Position:** The net cash position has remained strong, reflecting effective cash management and operational performance.\n- **CAPEX and Contribution Margin:** CAPEX guidance is in line with expectations, and the contribution margin for the WTG segment is expected to reach 20% on a steady-state basis.\n\n# Strategic Initiatives Analysis\n\n# SUZLON Strategic Initiatives: Q1-Q3 2025\n\n## **Key Strategic Priorities and Evolution**\n\n### **Q1 2025**\n\n- **Market Focus**: Suzlon prioritized the captive Commercial & Industrial (C&I) retail segments, which constituted almost two-thirds of their project mix. This shift was driven by the segment's better pricing and more stable revenue streams.\n- **Product Development**: The company continued to invest in the S144 Wind Turbine Generator (WTG) model, which was performing better than anticipated. Ongoing R&D efforts aimed to enhance this model and introduce new technologies.\n- **Strategic Partnerships**: Suzlon entered into a framework agreement with CESC, awaiting definitive agreements to materialize this partnership.\n- **Long-term Vision**: Suzlon aimed to maintain a strong balance sheet and optimized cost structure to participate in India's energy transition.\n- **Business Model**: Suzlon's end-to-end offerings for the wind energy value chain provided a strong competitive advantage, with plans to leverage this model to maintain market share.\n\n### **Q2 2025**\n\n- **Order Book Growth**: Secured the largest single order in the Indian wind industry from NTPC Green, exceeding 5 GW in the order book.\n- **Acquisitions**: Acquired Renom, entering the multi-brand Operations & Maintenance (O&M) sector and unlocking significant growth potential.\n- **Capacity Expansion**: Expanded manufacturing capacity to 4.5 GW, with investments in organizational buildup and technological advancements.\n- **Strategic Hiring**: Hired a Chief Strategy Officer and engaged with global management consultants to strengthen strategy and explore adjacent opportunities.\n- **Market Diversification**: Explored opportunities in the energy storage domain and non-wind sectors, such as bearings for different industries, defense, and railway sectors.\n\n### **Q3 2025**\n\n- **Capacity Expansion**: Significantly ramped up manufacturing capacity to over 4.5 GW with revamped facilities and new blade lines.\n- **Order Book Strength**: Achieved an all-time high order book of over 5.5 GW, securing high-quality orders with better margins.\n- **Financial Performance**: Reported record revenue and EBITDA, with a 91% and 102% year-on-year increase, respectively.\n- **ESG and Sustainability**: Became a member of the United Nations Global Compact and aligned with the Decarbonization Goal of Net 0 by 2050.\n- **Strategic Partnerships**: Secured orders with substantial land availability from key players like NTPC, Jindal Renewables, and Torrent Power.\n- **Market Expansion**: Evaluated opportunities for export markets, particularly in Europe, leveraging manufacturing cost advantages.\n\n## **Product Roadmap Developments**\n\n- **Q1 2025**: Continued investment in the S144 WTG model, with plans to enhance the model and introduce new technologies.\n- **Q2 2025**: Development of a new wind turbine model, with plans to launch it based on market readiness and the performance of the S144 model.\n- **Q3 2025**: Worked on the next version of the turbine, preparing to launch it based on market readiness and the performance of the S144 model.\n\n## **Major Partnerships and Acquisitions**\n\n- **Q1 2025**: Framework agreement with CESC, awaiting definitive agreements.\n- **Q2 2025**: Acquisition of Renom, entering the multi-brand O&M sector and unlocking significant growth potential.\n- **Q3 2025**: Secured orders with substantial land availability from NTPC, Jindal Renewables, and Torrent Power.\n\n## **R&D Focus Areas and Investments**\n\n- **Q1 2025**: Focused on best-in-class product development with the in-house R&D team to maintain a strong product portfolio.\n- **Q2 2025**: Explored opportunities in the energy storage domain and non-wind sectors, such as bearings for different industries, defense, and railway sectors.\n- **Q3 2025**: Worked on the next version of the turbine, preparing to launch it based on market readiness and the performance of the S144 model.\n\n## **Market Expansion Efforts**\n\n- **Q1 2025**: Shifted focus towards captive C&I retail segments, which offered better pricing and more stable revenue streams.\n- **Q2 2025**: Explored opportunities in the energy storage domain and non-wind sectors, such as bearings for different industries, defense, and railway sectors.\n- **Q3 2025**: Evaluated opportunities for export markets, particularly in Europe, leveraging manufacturing cost advantages.\n\n# Market Positioning Analysis\n\n# SUZLON's Competitive Positioning Across Q1, Q2, and Q3 of 2025\n\n## **Wind Energy Equipment Supply**\n\n### **Position in Key Market Segments**\n\n- **Q1**: Suzlon is well-positioned for growth and sectoral leadership in India's energy transition. The company has a strong order book and pipeline, focusing on quality orders with higher value and better margins. Suzlon's manufacturing capacity stands at 3.5 to 4 GW per year, with the potential for expansion.\n\n- **Q2**: Suzlon secured the largest ever single order in the Indian wind industry from NTPC for 1.166 GW, utilizing a plug-and-play approach. The order book exceeds 5 GW, with a focus on high-value orders. Despite severe monsoon disruptions, Suzlon delivered 256 MW in Q2, up from 132 MW the previous year. The company's robust order book of 4.7 GW for the S144 model reflects superior technology and customer confidence, with a 32% market share on the installed base.\n\n- **Q3**: Suzlon maintains a market share of 31% in the installed base in India. The S144 product, with 85% of components sourced domestically, underscores Suzlon's commitment to local manufacturing. The order book for S144 exceeds 5 GW, and Suzlon achieved a record quarterly delivery of 447 MW, marking a 163% year-on-year growth.\n\n### **Competitive Dynamics with Major Rivals**\n\n- **Q1**: Siemens Gamesa is exiting the Indian market, which could open up opportunities for Suzlon to capture a larger market share.\n\n- **Q2**: Competition remains intense, with both domestic and international players vying for market share. Suzlon's strategic focus on high-value orders and robust pipeline positions it well to navigate this competitive landscape.\n\n- **Q3**: Major players in the US market include GE and Vestas. European manufacturers have a significant presence in India but are exporting due to competition. Chinese manufacturers are present in India but not significantly in the US.\n\n### **Market Share Developments**\n\n- **Q1**: Suzlon's strong order book and pipeline indicate a growing market share, particularly in the Indian market.\n\n- **Q2**: Suzlon's order book exceeds 5 GW, reflecting a significant market share in the Indian wind energy sector.\n\n- **Q3**: Suzlon's market share stands at 31% in the installed base in India, with a strong order book and record quarterly deliveries.\n\n### **Differentiation Strategies**\n\n- **Q1**: Suzlon's focus on quality orders with higher value and better margins, along with its manufacturing capacity, sets it apart from competitors.\n\n- **Q2**: Suzlon's end-to-end offerings for the wind energy value chain provide a strong competitive edge. The company's acquisition of Renom marks a pivotal entry into the multi-brand O&M sector, unlocking significant growth potential.\n\n- **Q3**: Suzlon's pioneering business model, offering an end-to-end wind energy value chain, and its 'Made in India, Made for India' approach with the S144 product, differentiate it from competitors.\n\n### **Emerging Competition and Responses**\n\n- **Q1**: Suzlon is prepared to face intensified competition by sharpening costs and maintaining margins. The company is also exploring opportunities to enhance its core business and is hiring a Chief Strategy Officer and a global management consultant to strategize future growth.\n\n- **Q2**: Suzlon's aggressive pursuit of high-value orders and robust pipeline positions it well to respond to emerging competition. The company is also monetizing non-core assets to strengthen its financial position.\n\n- **Q3**: Suzlon is evaluating opportunities in the export market and is prepared to expand capacity if the Indian offtake reaches a certain level. The company's focus on local manufacturing and high-value orders positions it well to retain market share.\n\n## **Offshore Wind Projects**\n\n### **Position in Key Market Segments**\n\n- **Q1**: The government announced viability gap funding for 1,000 MW offshore projects, but the significant impact is years away. Suzlon's position in this segment is not yet fully realized.\n\n- **Q2**: There is no specific mention of Suzlon's position in offshore wind projects in Q2.\n\n- **Q3**: There is no specific mention of Suzlon's position in offshore wind projects in Q3.\n\n### **Competitive Dynamics with Major Rivals**\n\n- **Q1**: There is no specific mention of competitive dynamics in offshore wind projects in Q1.\n\n- **Q2**: There is no specific mention of competitive dynamics in offshore wind projects in Q2.\n\n- **Q3**: There is no specific mention of competitive dynamics in offshore wind projects in Q3.\n\n### **Market Share Developments**\n\n- **Q1**: The market for offshore wind projects is in its early stages, and Suzlon's market share is not yet fully established.\n\n- **Q2**: There is no specific mention of market share developments in offshore wind projects in Q2.\n\n- **Q3**: There is no specific mention of market share developments in offshore wind projects in Q3.\n\n### **Differentiation Strategies**\n\n- **Q1**: There is no specific mention of differentiation strategies in offshore wind projects in Q1.\n\n- **Q2**: There is no specific mention of differentiation strategies in offshore wind projects in Q2.\n\n- **Q3**: There is no specific mention of differentiation strategies in offshore wind projects in Q3.\n\n### **Emerging Competition and Responses**\n\n- **Q1**: There is no specific mention of emerging competition and responses in offshore wind projects in Q1.\n\n- **Q2**: There is no specific mention of emerging competition and responses in offshore wind projects in Q2.\n\n- **Q3**: There is no specific mention of emerging competition and responses in offshore wind projects in Q3.\n\n## **Wind Turbine Market**\n\n### **Position in Key Market Segments**\n\n- **Q1**: Suzlon has a strong order book and pipeline, with a focus on quality orders with higher value and better margins. The company's manufacturing capacity stands at 3.5 to 4 GW per year, with the potential for expansion.\n\n- **Q2**: Suzlon's order book exceeds 5 GW, with a focus on high-value orders. The company's robust order book of 4.7 GW for the S144 model reflects superior technology and customer confidence, with a 32% market share on the installed base.\n\n- **Q3**: Suzlon's order book for S144 exceeds 5 GW, and the company achieved a record quarterly delivery of 447 MW, marking a 163% year-on-year growth. Suzlon's market share stands at 31% in the installed base in India.\n\n### **Competitive Dynamics with Major Rivals**\n\n- **Q1**: There is no specific mention of competitive dynamics in the wind turbine market in Q1.\n\n- **Q2**: Competition remains intense, with both domestic and international players vying for market share. Suzlon's strategic focus on high-value orders and robust pipeline positions it well to navigate this competitive landscape.\n\n- **Q3**: Major players in the US market include GE and Vestas. European manufacturers have a significant presence in India but are exporting due to competition. Chinese manufacturers are present in India but not significantly in the US.\n\n### **Market Share Developments**\n\n- **Q1**: Suzlon's strong order book and pipeline indicate a growing market share, particularly in the Indian market.\n\n- **Q2**: Suzlon's order book exceeds 5 GW, reflecting a significant market share in the Indian wind energy sector.\n\n- **Q3**: Suzlon's market share stands at 31% in the installed base in India, with a strong order book and record quarterly deliveries.\n\n### **Differentiation Strategies**\n\n- **Q1**: Suzlon's focus on quality orders with higher value and better margins, along with its manufacturing capacity, sets it apart from competitors.\n\n- **Q2**: Suzlon's end-to-end offerings for the wind energy value chain provide a strong competitive edge. The company's acquisition of Renom marks a pivotal entry into the multi-brand O&M sector, unlocking significant growth potential.\n\n- **Q3**: Suzlon's pioneering business model, offering an end-to-end wind energy value chain, and its 'Made in India, Made for India' approach with the S144 product, differentiate it from competitors.\n\n### **Emerging Competition and Responses**\n\n- **Q1**: Suzlon is prepared to face intensified competition by sharpening costs and maintaining margins. The company is also exploring opportunities to enhance its core business and is hiring a Chief Strategy Officer and a global management consultant to strategize future growth.\n\n- **Q2**: Suzlon's aggressive pursuit of high-value orders and robust pipeline positions it well to respond to emerging competition. The company is also monetizing non-core assets to strengthen its financial position.\n\n- **Q3**: Suzlon is evaluating opportunities in the export market and is prepared to expand capacity if the Indian offtake reaches a certain level. The company's focus on local manufacturing and high-value orders positions it well to retain market share.\n\n## **Wind Energy Equipment Manufacturing**\n\n### **Position in Key Market Segments**\n\n- **Q1**: Suzlon has a manufacturing capacity of 3.5 to 4 GW per year, which can be expanded. The company's focus on quality orders with higher value and better margins sets it apart from competitors.\n\n- **Q2**: Suzlon's manufacturing capacity is being ramped up to 4.5 GW across all components of tower, blade, and nacelle by the end of FY'25. The company's WTG business has a gross margin in the mid-to-late teens, while the OMS business has a gross margin of about 65%.\n\n- **Q3**: Suzlon's manufacturing capacity is being ramped up to 4.5 GW across all components of tower, blade, and nacelle by the end of FY'25. The company's focus on local manufacturing and high-value orders positions it well to retain market share.\n\n### **Competitive Dynamics with Major Rivals**\n\n- **Q1**: There is no specific mention of competitive dynamics in wind energy equipment manufacturing in Q1.\n\n- **Q2**: Competition remains intense, with both domestic and international players vying for market share. Suzlon's strategic focus on high-value orders and robust pipeline positions it well to navigate this competitive landscape.\n\n- **Q3**: Major players in the US market include GE and Vestas. European manufacturers have a significant presence in India but are exporting due to competition. Chinese manufacturers are present in India but not significantly in the US.\n\n### **Market Share Developments**\n\n- **Q1**: Suzlon's strong order book and pipeline indicate a growing market share, particularly in the Indian market.\n\n- **Q2**: Suzlon's order book exceeds 5 GW, reflecting a significant market share in the Indian wind energy sector.\n\n- **Q3**: Suzlon's market share stands at 31% in the installed base in India, with a strong order book and record quarterly deliveries.\n\n### **Differentiation Strategies**\n\n- **Q1**: Suzlon's focus on quality orders with higher value and better margins, along with its manufacturing capacity, sets it apart from competitors.\n\n- **Q2**: Suzlon's end-to-end offerings for the wind energy value chain provide a strong competitive edge. The company's acquisition of Renom marks a pivotal entry into the multi-brand O&M sector, unlocking significant growth potential.\n\n- **Q3**: Suzlon's pioneering business model, offering an end-to-end wind energy value chain, and its 'Made in India, Made for India' approach with the S144 product, differentiate it from competitors.\n\n### **Emerging Competition and Responses**\n\n- **Q1**: Suzlon is prepared to face intensified competition by sharpening costs and maintaining margins. The company is also exploring opportunities to enhance its core business and is hiring a Chief Strategy Officer and a global management consultant to strategize future growth.\n\n- **Q2**: Suzlon's aggressive pursuit of high-value orders and robust pipeline positions it well to respond to emerging competition. The company is also monetizing non-core assets to strengthen its financial position.\n\n- **Q3**: Suzlon is evaluating opportunities in the export market and is prepared to expand capacity if the Indian offtake reaches a certain level. The company's focus on local manufacturing and high-value orders positions it well to retain market share.\n\n# Risk Assessment\n\n# SUZLON Risk Factors and Challenges: 2025\n\n## **Supply Chain Challenges**\n\n### **Q1**\n- **Severity:** 4/5\n- **Description:** Delays in commissioning due to pre-commissioned turbines not being connected to the grid.\n- **Potential Impact:** Delayed revenue recognition and increased costs.\n- **Mitigation:** Improving supply chain capacity and readiness.\n\n### **Q2**\n- **Severity:** 4/5\n- **Description:** Severe monsoon disruptions in Gujarat and other parts of the country have impacted the supply chain and delivery of wind turbines.\n- **Potential Impact:** Delays in project execution and reduced capacity installations.\n- **Mitigation:** Increasing manufacturing capacity to 4.5 GW by the end of the fiscal year to meet future demand.\n\n### **Q3**\n- **Severity:** 3/5\n- **Description:** Delays in transmission and land-related challenges have led to lower than expected industry commissioning.\n- **Potential Impact:** This could result in delayed revenue recognition and potential push back on supply.\n- **Mitigation:** Diversifying project development and securing land availability in advance to mitigate delays.\n\n### **Trend and Mitigation Effectiveness:**\n- **Trend:** The severity of supply chain challenges decreased from Q2 to Q3 due to improved weather conditions and increased manufacturing capacity.\n- **Mitigation Effectiveness:** Management's strategy of increasing manufacturing capacity and diversifying project development has shown positive results, but continued vigilance is required to address land and transmission-related issues.\n\n## **Market Uncertainties**\n\n### **Q1**\n- **Severity:** 3/5\n- **Description:** Uncertainty in the timing and volume of order inflows and project awards.\n- **Potential Impact:** Potential gaps in order book and revenue fluctuations.\n- **Mitigation:** Diversifying order book and focusing on quality orders.\n\n### **Q2**\n- **Severity:** 3/5\n- **Description:** The industry commissioned approximately 1,476 MW in the first half of the financial year, which is below expectations due to monsoon disruptions.\n- **Potential Impact:** Potential delay in achieving the annual installation target of 5 GW.\n- **Mitigation:** Confidence in significant turbine installations in H2 of FY'25 due to pre-commissioning phases and improved weather conditions.\n\n### **Q3**\n- **Severity:** 2/5\n- **Description:** Uncertainties related to transmission charges and tariff arbitrage could affect the C&I segment.\n- **Potential Impact:** This may lead to reduced demand or delayed projects in the C&I segment.\n- **Mitigation:** Monitoring market conditions and adjusting pricing strategies accordingly.\n\n### **Trend and Mitigation Effectiveness:**\n- **Trend:** Market uncertainties have decreased in severity from Q1 to Q3, reflecting improved market conditions and better order book management.\n- **Mitigation Effectiveness:** Management's focus on diversifying the order book and monitoring market conditions has been effective in mitigating market uncertainties.\n\n## **Regulatory Concerns**\n\n### **Q1**\n- **Severity:** 3/5\n- **Description:** Regulatory hurdles and delays in land acquisition and connectivity.\n- **Potential Impact:** Project delays and increased costs.\n- **Mitigation:** Engaging with government initiatives to remove bottlenecks.\n\n### **Q3**\n- **Severity:** 2/5\n- **Description:** Changes in domestic content criteria and storage pricing could impact solar tariffs and market dynamics.\n- **Potential Impact:** This could lead to increased competition and potential pressure on wind tariffs.\n- **Mitigation:** Staying informed about regulatory changes and adapting business strategies accordingly.\n\n### **Trend and Mitigation Effectiveness:**\n- **Trend:** Regulatory concerns have decreased in severity from Q1 to Q3, indicating progress in addressing regulatory hurdles.\n- **Mitigation Effectiveness:** Management's engagement with government initiatives and proactive adaptation to regulatory changes have been effective in mitigating regulatory risks.\n\n## **Execution Risks**\n\n### **Q1**\n- **Severity:** 4/5\n- **Description:** Delays in project execution due to land and connectivity issues.\n- **Potential Impact:** Delayed project completion and revenue recognition.\n- **Mitigation:** Focusing on timely execution and quality standards.\n\n### **Q2**\n- **Severity:** 4/5\n- **Description:** Delays in project readiness and offtake by clients have impacted the delivery of wind turbines.\n- **Potential Impact:** Reduced revenue and delayed project completions.\n- **Mitigation:** Ramping up manufacturing capacity and improving project readiness to enhance offtake capabilities.\n\n### **Q3**\n- **Severity:** 3/5\n- **Description:** Delays in project execution due to land and evacuation issues.\n- **Potential Impact:** This could result in delayed revenue recognition and increased costs.\n- **Mitigation:** Working on advanced project development and securing land in advance to mitigate delays.\n\n### **Trend and Mitigation Effectiveness:**\n- **Trend:** Execution risks have remained high but showed a slight decrease in severity from Q2 to Q3, reflecting improvements in project readiness and offtake capabilities.\n- **Mitigation Effectiveness:** Management's focus on ramping up manufacturing capacity and improving project readiness has been effective in mitigating execution risks, but continued efforts are needed to address land and evacuation issues.\n\n## **Macroeconomic Factors**\n\n### **Q1**\n- **Severity:** 3/5\n- **Description:** Global and domestic economic conditions affecting demand and pricing.\n- **Potential Impact:** Fluctuations in order book and revenue.\n- **Mitigation:** Diversifying customer base and focusing on stable markets.\n\n### **Q2**\n- **Severity:** 2/5\n- **Description:** Economic factors such as industrialization, urbanization, and E-mobility are driving power demand and influencing the renewable energy sector.\n- **Potential Impact:** Potential fluctuations in demand and market dynamics.\n- **Mitigation:** Strengthening the order book and maintaining a strong pipeline of projects to capitalize on market opportunities.\n\n### **Q3**\n- **Severity:** 2/5\n- **Description:** Fluctuations in steel prices and potential impact of the Trum Era on renewable energy sector in India.\n- **Potential Impact:** This could lead to increased costs and potential disruptions in the supply chain.\n- **Mitigation:** Entering into long-term framework agreements with suppliers to manage costs.\n\n### **Trend and Mitigation Effectiveness:**\n- **Trend:** Macroeconomic factors have decreased in severity from Q1 to Q3, indicating a more stable economic environment.\n- **Mitigation Effectiveness:** Management's strategy of diversifying the customer base and strengthening the order book has been effective in mitigating macroeconomic risks.\n\n## **Competitive Pressures**\n\n### **Q1**\n- **Severity:** 3/5\n- **Description:** Intense competition in the wind energy sector.\n- **Potential Impact:** Pricing pressures and potential loss of market share.\n- **Mitigation:** Focusing on differentiated offerings and maintaining market leadership.\n\n### **Q2**\n- **Severity:** 3/5\n- **Description:** Increasing competition from Chinese and Indian players in the wind energy sector.\n- **Potential Impact:** Potential pressure on margins and market share.\n- **Mitigation:** Focus on long-term relationships with clients, maintaining margins, and sharpening costs without compromising on quality.\n\n### **Trend and Mitigation Effectiveness:**\n- **Trend:** Competitive pressures have remained constant in severity throughout the year.\n- **Mitigation Effectiveness:** Management's focus on differentiated offerings and maintaining long-term relationships with clients has been effective in mitigating competitive pressures.\n\n## **Technical Challenges**\n\n### **Q1**\n- **Severity:** 3/5\n- **Description:** Technical issues in commissioning and operation of wind turbines.\n- **Potential Impact:** Delayed project completion and additional maintenance costs.\n- **Mitigation:** Enhancing R&D and technical capabilities.\n\n### **Trend and Mitigation Effectiveness:**\n- **Trend:** Technical challenges have not been explicitly mentioned in Q2 and Q3, suggesting either a decline in severity or effective mitigation.\n- **Mitigation Effectiveness:** Management's focus on enhancing R&D and technical capabilities has likely been effective in mitigating technical challenges.\n\n## **Emerging vs. Declining Risk Factors**\n\n### **Emerging Risk Factors:**\n- **Supply Chain Challenges:** While improving, supply chain challenges remain a significant risk due to land and transmission-related issues.\n- **Execution Risks:** Continued delays in project execution highlight the need for ongoing mitigation efforts.\n\n### **Declining Risk Factors:**\n- **Market Uncertainties:** Improved market conditions and better order book management have led to a decrease in market uncertainties.\n- **Regulatory Concerns:** Proactive engagement with government initiatives and adaptation to regulatory changes have mitigated regulatory risks.\n- **Macroeconomic Factors:** A more stable economic environment has reduced the severity of macroeconomic risks.\n\n## **Assessment of Risk Management Effectiveness**\n\n- **Overall Effectiveness:** Management's mitigation strategies have been effective in addressing key risks, as evidenced by the decrease in severity of several risk factors throughout the year.\n- **Areas for Improvement:** Continued focus on supply chain management, project execution, and technical capabilities is required to further mitigate risks and ensure sustainable growth.\n- **Recommendations:** Enhance supply chain resilience, accelerate project readiness, and invest in advanced technologies to maintain a competitive edge and drive long-term success.\n\n# Quarterly Trends Analysis\n\n### SUZLON's 2025 Quarter-to-Quarter Trends\n\n#### **Major Trends Across All Analysis Dimensions**\n\n- **Financial Performance**: SUZLON has demonstrated consistent growth in revenue and financial performance across all quarters. The company reported significant year-on-year increases in revenue, EBITDA, and PAT, indicating a strong financial trajectory.\n\n- **Order Book**: The order book has been growing steadily, reaching an all-time high in Q3. This trend reflects increasing market demand and the company's ability to secure large orders.\n\n- **Manufacturing Capacity**: Manufacturing capacity has been ramping up significantly, with a notable increase from Q1 to Q3. This expansion is crucial for meeting the growing order book and market demand.\n\n- **Deliveries**: Deliveries have been increasing quarter over quarter, with Q3 marking a record quarterly delivery. This trend underscores the company's operational efficiency and capacity utilization.\n\n- **Sentiment**: The overall sentiment across quarters has been predominantly positive, driven by strong financial performance and order book growth.\n\n- **ESG and Sustainability**: An emerging trend in Q3 is the focus on ESG and sustainability initiatives. This trend is expected to become more prominent in future quarters.\n\n- **Risk Factors**: Risk factors such as supply chain challenges, market uncertainties, and execution risks have been consistently mentioned. The company has been implementing mitigation strategies to address these risks.\n\n- **Competitive Positioning**: SUZLON has been strengthening its competitive positioning by securing large orders and expanding its market share. Significant developments include the acquisition of Renom and the largest ever single order from NTPC.\n\n- **Business Priorities**: The company has maintained a focus on quality orders, higher value, and better margins. This consistent priority reflects a strategic approach to sustainable growth.\n\n- **Strategic Initiatives**: SUZLON has been investing in strategic initiatives such as capacity expansion, R&D, and new product development. These initiatives are crucial for long-term growth and innovation.\n\n#### **Inflection Points or Significant Shifts During the Year**\n\n1. **Q2 Acquisition of Renom**: The acquisition of Renom in Q2 was a significant strategic move that strengthened SUZLON's competitive positioning and expanded its market share.\n\n2. **Q3 Record Order Book**: The order book reached an all-time high in Q3, marking a significant shift in the company's market demand and order securing capabilities.\n\n3. **Q3 ESG and Sustainability Initiatives**: The focus on ESG and sustainability initiatives in Q3 is an emerging trend that could become more prominent in future quarters.\n\n#### **Business Cycle Position and Momentum**\n\n- SUZLON is in a growth phase of the business cycle, characterized by increasing revenue, expanding order book, and ramping up manufacturing capacity. The company's momentum is strong, driven by strategic initiatives and a focus on quality orders.\n\n#### **Management Focus Evolution**\n\n- The management has consistently focused on quality orders, higher value, and better margins. This focus has been complemented by strategic initiatives such as capacity expansion, R&D, and new product development. The evolving focus on ESG and sustainability initiatives in Q3 indicates a forward-looking approach to sustainable growth.\n\n#### **Market Reception Changes**\n\n- The market reception has been predominantly positive across all quarters, driven by strong financial performance and order book growth. The sentiment has been very positive in Q1 and Q3, and positive in Q2. The market has responded favorably to SUZLON's strategic initiatives and competitive positioning.\n\n#### **Most Significant Developments and Their Implications**\n\n- **Consistent Revenue Growth**: The consistent growth in revenue and financial performance across all quarters is a significant development. This trend indicates a strong market demand and the company's ability to execute on its strategic initiatives.\n\n- **Record Order Book in Q3**: The record order book in Q3 is a significant milestone that reflects the company's market leadership and order securing capabilities. This trend is expected to drive future growth and expansion.\n\n- **Strategic Acquisitions and Initiatives**: The acquisition of Renom and the focus on strategic initiatives such as capacity expansion, R&D, and new product development are significant developments. These initiatives are crucial for long-term growth and innovation.\n\n- **Emerging ESG Focus**: The emerging focus on ESG and sustainability initiatives in Q3 is a significant development. This trend is expected to become more prominent in future quarters and could enhance the company's market positioning and investor appeal.\n\n- **Strong Competitive Positioning**: The company's strengthening competitive positioning, driven by large orders and market share expansion, is a significant development. This trend is expected to drive future growth and profitability.\n\nIn conclusion, SUZLON's 2025 quarter-to-quarter trends indicate a strong growth trajectory, driven by strategic initiatives, consistent financial performance, and a focus on quality orders. The company's market reception has been positive, and the emerging focus on ESG and sustainability initiatives is expected to enhance its market positioning and investor appeal.\n\n# Outlook and Projections\n\n## Comprehensive Outlook for Suzlon\n\n### **Forward Guidance from Management**\n\n- Suzlon's management has expressed confidence in the company's ability to sustain its growth momentum. The ramp-up strategy is on track, and operational preparedness is at optimal levels. This positions Suzlon to create long-term value for stakeholders.\n- The company has not provided specific volume guidance for FY26 or the next quarter, indicating a cautious approach to future order inflows.\n\n### **Key Initiatives to Watch in the Coming Year**\n\n1. **Capacity Expansion**: Suzlon has significantly increased its manufacturing capacity to over 4.5 GW. This includes revamped facilities in Pondicherry and Nacelle, and new blade lines in Madhya Pradesh and Rajasthan. This expansion is crucial for meeting the growing demand and securing future orders.\n2. **Order Book Strength**: With an all-time high order book of over 5.5 GW, Suzlon has secured high-quality orders extending beyond FY26. These orders offer greater value and better margins, which will be instrumental in maintaining financial performance.\n3. **Product Delivery and Commissioning**: Suzlon achieved a record quarterly delivery of 447 MW in Q3 FY25, marking a 163% year-on-year growth. The company is expected to continue this momentum, with a focus on efficient commissioning and delivery.\n4. **ESG and Sustainability**: Suzlon's membership in the United Nations Global Compact and alignment with the Decarbonization Goal of Net 0 by 2050 are significant steps. The company is likely to continue investing in sustainability initiatives, which could enhance its market position and attract environmentally conscious investors.\n5. **Strategic Partnerships**: Orders from substantial partners like NTPC, Jindal Renewables, and Torrent Power provide better commissioning visibility for FY26. These partnerships are expected to strengthen Suzlon's market position and operational efficiency.\n6. **Market Expansion**: Suzlon is evaluating opportunities for export markets, particularly in Europe, leveraging its manufacturing cost advantages. This could open new revenue streams and diversify the company's market presence.\n7. **R&D Investments**: The company is working on the next version of the turbine and is prepared to launch it based on market readiness and the performance of the S144 model. This investment in R&D is crucial for maintaining technological competitiveness.\n8. **Business Model Changes**: Suzlon is increasing its activity in advanced development projects and entering into multi-brand acquisitions for Renom. These changes are expected to enhance the company's product offerings and market reach.\n9. **Market Segments of Focus**: Suzlon is focusing on C&I, PSU, and bid projects, with a strong presence in the C&I segment and growing traction in PSU and bid projects. This strategic focus is expected to drive growth and profitability.\n\n### **Potential Challenges and Opportunities**\n\n- **Challenges**:\n  - **Supply Chain Challenges**: The company has consistently mentioned supply chain challenges as a risk factor. Mitigation strategies are in place, but any disruptions could impact delivery schedules and financial performance.\n  - **Market Uncertainties**: Market uncertainties, including regulatory changes and competitive pressures, could affect Suzlon's growth trajectory. The company needs to remain agile and adaptable to navigate these uncertainties.\n  - **Execution Risks**: The successful execution of capacity expansion and new product launches is critical. Any delays or setbacks could impact financial performance and market position.\n\n- **Opportunities**:\n  - **Growing Demand for Renewable Energy**: The global shift towards renewable energy presents a significant opportunity for Suzlon. The company's focus on sustainability and technological innovation positions it well to capitalize on this trend.\n  - **Strategic Partnerships**: Strengthening partnerships with key players like NTPC, Jindal Renewables, and Torrent Power can provide better commissioning visibility and operational efficiency.\n  - **Export Market Potential**: Exploring export markets, particularly in Europe, could open new revenue streams and diversify Suzlon's market presence.\n\n### **Market Segment Outlooks**\n\n1. **Commercial and Industrial (C&I) Segment**: Suzlon has a strong presence in the C&I segment, which is expected to continue driving growth. The company's focus on quality orders and higher margins in this segment is likely to enhance profitability.\n2. **Public Sector Undertakings (PSU) Segment**: Suzlon is gaining traction in the PSU segment, with significant orders from NTPC. This segment offers stable and long-term revenue streams, which are crucial for financial stability.\n3. **Bid Projects**: Suzlon's participation in bid projects is expected to increase, driven by its competitive positioning and technological capabilities. This segment offers opportunities for large-scale projects and revenue growth.\n4. **Export Market**: The company is evaluating opportunities in the export market, particularly in Europe. This segment could provide new revenue streams and diversify Suzlon's market presence.\n\n### **Long-Term Strategic Trajectory**\n\n- Suzlon's long-term strategic trajectory is focused on sustainable growth, technological innovation, and market expansion. The company's investments in capacity expansion, R&D, and strategic partnerships are expected to drive this trajectory.\n- The focus on ESG and sustainability initiatives aligns with global trends and positions Suzlon as a responsible and forward-looking company.\n- The company's strategic initiatives, including market expansion and business model changes, are expected to enhance its competitive positioning and drive long-term value creation for stakeholders.\n\n"
          },
          "metadata": {}
        }
      ],
      "source": [
        "print(f\"\\nDisplaying report saved to: {report_file}\")\n",
        "display(Markdown(report_content))"
      ]
    },
    {
      "cell_type": "markdown",
      "metadata": {
        "id": "SHuo5kc1huIO"
      },
      "source": [
        "### Query Answering\n",
        "\n",
        "Our system analyzes user questions to determine relevant quarters, agent types, and analysis dimensions, then provides targeted responses using only the most applicable insights."
      ]
    },
    {
      "cell_type": "markdown",
      "metadata": {
        "id": "lavEVBUzhwTP"
      },
      "source": [
        "#### Query-1\n",
        "\n",
        "Query - What were SUZLON's key financial metrics in Q1 and Q2 2025?\n",
        "\n",
        "Agents Used - Financial Agent\n",
        "\n",
        "Quarters - Q1, Q2\n",
        "\n",
        "Temporal Analysis Required - False\n",
        "\n",
        "Financial Year - 2025"
      ]
    },
    {
      "cell_type": "code",
      "execution_count": 30,
      "metadata": {
        "colab": {
          "base_uri": "https://localhost:8080/"
        },
        "id": "93Ey0_mSncSZ",
        "outputId": "6e8803cf-77a0-44a1-a5b0-8c0af1b4a38d"
      },
      "outputs": [
        {
          "output_type": "stream",
          "name": "stdout",
          "text": [
            "\n",
            "=== Processing query: What were the key financial metrics in Q1 and Q2? ===\n",
            "\n",
            "Analyzing query: What were the key financial metrics in Q1 and Q2?\n",
            "Query analysis completed\n",
            "Quarters needed: ['Q1', 'Q2']\n",
            "Agent types needed: ['Financial']\n",
            "Temporal analysis required: False\n",
            "Query intent: User wants to know the key financial metrics for Q1 and Q2.\n",
            "\n",
            "=== Query processing completed ===\n",
            "\n"
          ]
        }
      ],
      "source": [
        "query = \"What were the key financial metrics in Q1 and Q2?\"\n",
        "answer = orchestrator.answer_query(query)"
      ]
    },
    {
      "cell_type": "code",
      "execution_count": 31,
      "metadata": {
        "colab": {
          "base_uri": "https://localhost:8080/",
          "height": 404
        },
        "id": "WWkbKmGRn7-M",
        "outputId": "4a9778eb-a97c-4ec9-e084-57d2f25c83e4"
      },
      "outputs": [
        {
          "output_type": "display_data",
          "data": {
            "text/plain": [
              "<IPython.core.display.Markdown object>"
            ],
            "text/markdown": "### Key Financial Metrics in Q1 and Q2:\n\n#### Q1:\n- **Revenue**: 2,016 crores, up 50% year-on-year.\n- **EBITDA**: 370 crores, with an EBITDA margin of 18.4%.\n- **PAT**: 302 crores, increased by 200% or nearly 3x.\n- **Order Book**: 3.8 GW, the largest in Suzlon's history.\n- **Deliveries**: 274 MW, double the 135 MW delivered in Q1 FY'24.\n- **Net Worth**: 4,253 crores.\n- **Net Cash Position**: 1,197 crores.\n\n#### Q2:\n- **Revenue**: 2,093 crores, a 48% year-on-year increase.\n- **EBITDA**: 294 crores, up 31% from Q2 FY'24.\n- **EBITDA Margin**: 14.1%.\n- **PAT**: 201 crores, a 96% year-on-year increase.\n- **Order Book**: 5.1 GW, including a 1.16 GW order from NTPC.\n- **Deliveries**: 256 MW, the highest for the second quarter in seven years.\n- **Net Worth**: 4,495 crores.\n- **Net Cash Position**: 1,277 crores."
          },
          "metadata": {}
        }
      ],
      "source": [
        "display(Markdown(answer))"
      ]
    },
    {
      "cell_type": "markdown",
      "metadata": {
        "id": "XUsCyFHBhzrq"
      },
      "source": [
        "#### Query-2\n",
        "\n",
        "Query - Identify strategic shifts in SUZLON's business across 2025\n",
        "\n",
        "Agents Used - Strategic Agent\n",
        "\n",
        "Quarters - Q1, Q2, Q3, Q4\n",
        "\n",
        "Temporal Analysis Required - True\n",
        "\n",
        "Financial Year - 2025"
      ]
    },
    {
      "cell_type": "code",
      "execution_count": 32,
      "metadata": {
        "colab": {
          "base_uri": "https://localhost:8080/"
        },
        "id": "TawLGYymoWsK",
        "outputId": "fc66d129-0849-4a92-bf83-bb32d0e8551e"
      },
      "outputs": [
        {
          "output_type": "stream",
          "name": "stdout",
          "text": [
            "\n",
            "=== Processing query: Identify strategic shifts in SUZLON's business across 2025 ===\n",
            "\n",
            "Analyzing query: Identify strategic shifts in SUZLON's business across 2025\n",
            "Query analysis completed\n",
            "Quarters needed: ['Q1', 'Q2', 'Q3', 'Q4']\n",
            "Agent types needed: ['Strategic']\n",
            "Temporal analysis required: True\n",
            "Query intent: User wants to identify strategic shifts in SUZLON's business across all quarters of 2025.\n",
            "Processing missing transcript for Q4...\n",
            "\n",
            "=== Processing SUZLON 2025 Q4 transcript ===\n",
            "\n",
            "Parsing transcript for SUZLON 2025 Q4\n",
            "Processing PDF file: suzlon_earnings_2025_Q4.pdf\n",
            "Error processing transcript: [Errno 2] No such file or directory: 'suzlon_earnings_2025_Q4.pdf'\n",
            "Error processing transcript for Q4: [Errno 2] No such file or directory: 'suzlon_earnings_2025_Q4.pdf'\n",
            "Running temporal analysis across quarters...\n",
            "Temporal analysis completed\n",
            "\n",
            "=== Query processing completed ===\n",
            "\n"
          ]
        }
      ],
      "source": [
        "query = \"Identify strategic shifts in SUZLON's business across 2025\"\n",
        "answer = orchestrator.answer_query(query)"
      ]
    },
    {
      "cell_type": "code",
      "execution_count": 33,
      "metadata": {
        "colab": {
          "base_uri": "https://localhost:8080/",
          "height": 948
        },
        "id": "tbrX0V3rodkZ",
        "outputId": "49986260-4736-4f0b-df9e-625350c9a1d5"
      },
      "outputs": [
        {
          "output_type": "display_data",
          "data": {
            "text/plain": [
              "<IPython.core.display.Markdown object>"
            ],
            "text/markdown": "### Strategic Shifts in SUZLON's Business Across 2025\n\n1. **Market Expansion into C&I Segments**:\n   - **Q1**: Suzlon shifted its focus towards captive Commercial & Industrial (C&I) retail segments, which now constitute almost two-thirds of their project mix. This segment offers better pricing and more stable revenue streams.\n   - **Q3**: Continued focus on C&I, Public Sector Undertakings (PSU), and bid projects, with a strong presence in the C&I segment and growing traction in PSU and bid projects.\n\n2. **Capacity Expansion**:\n   - **Q2**: Suzlon expanded its manufacturing capacity to 4.5 GW, including ramping up capacity across all components of tower, blade, and nacelle, with significant investments in organizational buildup and technological advancements.\n   - **Q3**: Significantly ramped up its manufacturing capacity to over 4.5 GW with revamped facilities in Pondicherry and Nacelle, and new blade lines in Madhya Pradesh and Rajasthan.\n\n3. **Strategic Partnerships**:\n   - **Q1**: Entered into a framework agreement with CESC, which is substantial in quantum. The company is awaiting definitive agreements to materialize this partnership.\n   - **Q3**: Secured orders with substantial land availability from NTPC, Jindal Renewables, and Torrent Power, providing better commissioning visibility for FY26.\n\n4. **R&D Investments**:\n   - **Q1**: Focused on best-in-class product development with their in-house R&D team, aiming to maintain a strong product portfolio to stay competitive in the market.\n   - **Q3**: Working on the next version of the turbine and is prepared to launch it based on market readiness and the performance of the S144 model.\n\n5. **Financial Performance**:\n   - **Q3**: Reported a record performance with revenue of Rs. 2,969 crores, a 91% year-on-year (Y-o-Y) increase. EBITDA for Q3 is at Rs. 500 crores, a 102% increase Y-o-Y.\n\n6. **Product Roadmap**:\n   - **Q1**: Commissioned close to 100 MW of the S144 WTG model, which is performing better than anticipated design parameters. The company plans to continue investing in R&D to enhance this model and introduce new technologies.\n   - **Q3**: Achieved a record quarterly delivery of 447 MW, marking a 163% year-on-year growth. The industry commissioned approximately 2277 MW in the first 9 months of FY25.\n\n7. **Order Book Strength**:\n   - **Q2**: Secured the largest ever single order in the Indian wind industry from NTPC Green, with a project utilizing a plug-and-play approach and a pipeline for land and power evacuation within NTPC's scope. The order book now exceeds 5 GW.\n   - **Q3**: Has an all-time high order book of over 5.5 GW, securing high-quality orders for periods beyond FY26 that offer greater value and better margins.\n\n8. **Business Model Changes**:\n   - **Q1**: Pioneering business model of end-to-end offerings for the wind energy value chain provides a strong, differentiated competitive advantage. The company plans to leverage this model to maintain its market share.\n   - **Q3**: Increasing activity in advanced development projects and entering into multi-brand acquisitions for Renom.\n\n9. **Market Segments of Focus**:\n   - **Q1**: Focusing on captive C&I and Independent Power Producers (IPP) segments, which offer better pricing and more stable revenue streams. The company aims to increase its market share in these segments.\n   - **Q3**: Focusing on C&I, PSU, and bid projects, with a strong presence in the C&I segment and growing traction in PSU and bid projects.\n\n10. **ESG and Sustainability**:\n    - **Q3**: Suzlon is now a member of the United Nations Global Compact and has aligned with the Decarbonization Goal of Net 0 by 2050.\n\nThese strategic shifts indicate Suzlon's focus on expanding its market presence, enhancing its product offerings, and strengthening its financial performance to capitalize on the growing demand for renewable energy solutions."
          },
          "metadata": {}
        }
      ],
      "source": [
        "display(Markdown(answer))"
      ]
    },
    {
      "cell_type": "markdown",
      "metadata": {
        "id": "JXU1RZUBh183"
      },
      "source": [
        "#### Query-3\n",
        "\n",
        "Query - What risks did SUZLON highlight in their Q3 earnings call, and how do they compare to those mentioned in Q2?\n",
        "\n",
        "Agents Used - Risk Agent\n",
        "\n",
        "Quarters - Q2, Q3\n",
        "\n",
        "Temporal Analysis Required - True\n",
        "\n",
        "Financial Year - 2025"
      ]
    },
    {
      "cell_type": "code",
      "execution_count": 34,
      "metadata": {
        "colab": {
          "base_uri": "https://localhost:8080/"
        },
        "id": "FC5liW4fo6Pj",
        "outputId": "a9dfd027-3c0c-4f81-d4aa-ca5f83dbae5f"
      },
      "outputs": [
        {
          "output_type": "stream",
          "name": "stdout",
          "text": [
            "\n",
            "=== Processing query: What risks did SUZLON highlight in their Q3 earnings call, and how do they compare to those mentioned in Q2? ===\n",
            "\n",
            "Analyzing query: What risks did SUZLON highlight in their Q3 earnings call, and how do they compare to those mentioned in Q2?\n",
            "Query analysis completed\n",
            "Quarters needed: ['Q3', 'Q2']\n",
            "Agent types needed: ['Risk']\n",
            "Temporal analysis required: True\n",
            "Query intent: Identify and compare risks highlighted by SUZLON in their Q3 and Q2 earnings calls.\n",
            "Running temporal analysis across quarters...\n",
            "Temporal analysis completed\n",
            "\n",
            "=== Query processing completed ===\n",
            "\n"
          ]
        }
      ],
      "source": [
        "query = \"What risks did SUZLON highlight in their Q3 earnings call, and how do they compare to those mentioned in Q2?\"\n",
        "answer = orchestrator.answer_query(query)"
      ]
    },
    {
      "cell_type": "code",
      "execution_count": 35,
      "metadata": {
        "colab": {
          "base_uri": "https://localhost:8080/",
          "height": 493
        },
        "id": "L7fYpoJ8o-gz",
        "outputId": "f466617f-d7fc-482e-b3ad-3a5f5891b8cb"
      },
      "outputs": [
        {
          "output_type": "display_data",
          "data": {
            "text/plain": [
              "<IPython.core.display.Markdown object>"
            ],
            "text/markdown": "In the Q3 earnings call, SUZLON highlighted several risks:\n\n1. **Supply Chain Challenges**: Delays in transmission and land-related issues led to lower than expected industry commissioning, which could result in delayed revenue recognition and potential pushbacks on supply. SUZLON is mitigating this by diversifying project development and securing land availability in advance.\n\n2. **Market Uncertainties**: Uncertainties related to transmission charges and tariff arbitrage could affect the Commercial and Industrial (C&I) segment, potentially leading to reduced demand or delayed projects. SUZLON plans to monitor market conditions and adjust pricing strategies accordingly.\n\n3. **Regulatory Concerns**: Changes in domestic content criteria and storage pricing could impact solar tariffs and market dynamics, leading to increased competition and potential pressure on wind tariffs. SUZLON aims to stay informed about regulatory changes and adapt business strategies accordingly.\n\n4. **Execution Risks**: Delays in project execution due to land and evacuation issues could result in delayed revenue recognition and increased costs. SUZLON is working on advanced project development and securing land in advance to mitigate these delays.\n\n5. **Macroeconomic Factors**: Fluctuations in steel prices and potential impacts of the Trump Era on the renewable energy sector in India could lead to increased costs and potential disruptions in the supply chain. SUZLON is entering into long-term framework agreements with suppliers to manage costs.\n\n**Comparison to Q2:**\n\n- **Supply Chain Challenges** and **Execution Risks** were also highlighted in Q2, with severe monsoon disruptions and delays in project readiness impacting project execution and delivery. The severity of these risks was rated higher in Q2 (4) compared to Q3 (3).\n\n- **Market Uncertainties** were present in both quarters, with Q2 focusing on the potential delay in achieving the annual installation target due to monsoon disruptions. The severity was rated 3 in both quarters.\n\n- **Competitive Pressures** were mentioned in Q2 but not in Q3. This risk was related to increasing competition from Chinese and Indian players, with a severity rating of 3.\n\n- **Macroeconomic Factors** were discussed in both quarters, but the focus shifted from economic factors driving power demand in Q2 to fluctuations in steel prices and potential impacts of the Trump Era in Q3. The severity rating was 2 in both quarters.\n\n- **Regulatory Concerns** were not mentioned in Q2 but emerged as a significant risk factor in Q3, with a severity rating of 2."
          },
          "metadata": {}
        }
      ],
      "source": [
        "display(Markdown(answer))"
      ]
    }
  ],
  "metadata": {
    "colab": {
      "provenance": [],
      "include_colab_link": true
    },
    "kernelspec": {
      "display_name": "mistral",
      "language": "python",
      "name": "mistral"
    },
    "language_info": {
      "codemirror_mode": {
        "name": "ipython",
        "version": 3
      },
      "file_extension": ".py",
      "mimetype": "text/x-python",
      "name": "python",
      "nbconvert_exporter": "python",
      "pygments_lexer": "ipython3",
      "version": "3.9.6"
    }
  },
  "nbformat": 4,
  "nbformat_minor": 0
}